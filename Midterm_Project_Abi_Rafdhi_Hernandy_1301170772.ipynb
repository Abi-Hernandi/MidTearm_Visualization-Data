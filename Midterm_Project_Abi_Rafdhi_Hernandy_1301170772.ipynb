{
  "nbformat": 4,
  "nbformat_minor": 0,
  "metadata": {
    "kernelspec": {
      "display_name": "Python 3",
      "language": "python",
      "name": "python3"
    },
    "language_info": {
      "codemirror_mode": {
        "name": "ipython",
        "version": 3
      },
      "file_extension": ".py",
      "mimetype": "text/x-python",
      "name": "python",
      "nbconvert_exporter": "python",
      "pygments_lexer": "ipython3",
      "version": "3.6.9"
    },
    "colab": {
      "name": "Midterm_Project_Abi Rafdhi Hernandy_1301170772.ipynb",
      "provenance": [],
      "collapsed_sections": []
    }
  },
  "cells": [
    {
      "cell_type": "markdown",
      "metadata": {
        "id": "Jb66meHxTqU3"
      },
      "source": [
        "## Tugas Besar 1 \n",
        "### MK Visualisasi Data Gasal 2020/2021"
      ]
    },
    {
      "cell_type": "markdown",
      "metadata": {
        "id": "J0Tgwud6TqU5"
      },
      "source": [
        "<b>Nama<b>: Abi Rafdhi Hernandy <br> \n",
        "<b>NIM<b>: 1301170772"
      ]
    },
    {
      "cell_type": "markdown",
      "metadata": {
        "id": "VOyF_yHJTqU6"
      },
      "source": [
        "#### Aturan umum:\n",
        "1. Setiap soal dievaluasi berdasarkan _code program_ dan penjelasan yang dibuat.\n",
        "2. File _midterm project_ yang telah dikerjakan harus di-submit melalui LMS.\n",
        "3. Batas akhir submit file adalah 1 November 2020 pukul 21:00.\n",
        "4. <b><font color='red'>Setiap tindakan plagiarism akan berakibat pada ketidaklulusan pada MK ini.</font><b>"
      ]
    },
    {
      "cell_type": "markdown",
      "metadata": {
        "id": "ndIKHa5VTqU7"
      },
      "source": [
        "### Kasus 1: Pima Indian Diabetes Data Set (Soal 1 - 2)\n",
        "Dataset ini berasal dari the National Institute of Diabetes and Digestive and Kidney Diseases. Tujuan dari pengumpulan dataset ini untuk dapat memprediksi secara diagnosis apakah seseorang mengidap penyakit diabetes atau tidak berdasarkan beberapa pengukuran diagnostik. Seluruh pasien pada dataset ini adalah perempuan keturunan India Pima yang berumur kurang dari 21 tahun.<br><br>\n",
        "Dataset terdiri dari beberapa variabel prediktor medis dan satu variabel target sebagai _outcome_. Variabel prediktor di antaranya jumlah kehamilan, BMI, level insulin, usia, dll.lin level, age, and so on. Dataset dapat diunduh melalui [tautan ini](https://www.dl.dropboxusercontent.com/s/3i3gfr8pih4jwd4/diabetes.csv?dl=0)"
      ]
    },
    {
      "cell_type": "code",
      "metadata": {
        "id": "bHc99L3hU5Va"
      },
      "source": [
        "import numpy as np\n",
        "import matplotlib.pyplot as plt\n",
        "import pandas as pd\n",
        "import seaborn as sns\n",
        "import datetime\n",
        "from scipy.stats import stats"
      ],
      "execution_count": 62,
      "outputs": []
    },
    {
      "cell_type": "markdown",
      "metadata": {
        "id": "mukBv40tTqU9"
      },
      "source": [
        "### Soal 1 (15 poin)\n",
        "Tampilkan visualisasi distribusi data untuk variabel \"Glucose\" dan \"Insulin\", lalu jelaskan hasil distribusinya."
      ]
    },
    {
      "cell_type": "markdown",
      "metadata": {
        "id": "Kb1Xgj2qTqU-"
      },
      "source": [
        "#### Code"
      ]
    },
    {
      "cell_type": "code",
      "metadata": {
        "id": "6A3kLwChTqU_",
        "outputId": "818f1229-1e58-4fe0-fb06-da014361c6aa",
        "colab": {
          "base_uri": "https://localhost:8080/",
          "height": 195
        }
      },
      "source": [
        "# Read Dataset Diabetes\n",
        "Diabetes_df = pd.read_csv('diabetes.csv')\n",
        "Diabetes_df.head()\n",
        "\n"
      ],
      "execution_count": 63,
      "outputs": [
        {
          "output_type": "execute_result",
          "data": {
            "text/html": [
              "<div>\n",
              "<style scoped>\n",
              "    .dataframe tbody tr th:only-of-type {\n",
              "        vertical-align: middle;\n",
              "    }\n",
              "\n",
              "    .dataframe tbody tr th {\n",
              "        vertical-align: top;\n",
              "    }\n",
              "\n",
              "    .dataframe thead th {\n",
              "        text-align: right;\n",
              "    }\n",
              "</style>\n",
              "<table border=\"1\" class=\"dataframe\">\n",
              "  <thead>\n",
              "    <tr style=\"text-align: right;\">\n",
              "      <th></th>\n",
              "      <th>Pregnancies</th>\n",
              "      <th>Glucose</th>\n",
              "      <th>BloodPressure</th>\n",
              "      <th>SkinThickness</th>\n",
              "      <th>Insulin</th>\n",
              "      <th>BMI</th>\n",
              "      <th>DiabetesPedigreeFunction</th>\n",
              "      <th>Age</th>\n",
              "      <th>Outcome</th>\n",
              "    </tr>\n",
              "  </thead>\n",
              "  <tbody>\n",
              "    <tr>\n",
              "      <th>0</th>\n",
              "      <td>6</td>\n",
              "      <td>148</td>\n",
              "      <td>72</td>\n",
              "      <td>35</td>\n",
              "      <td>0</td>\n",
              "      <td>33.6</td>\n",
              "      <td>0.627</td>\n",
              "      <td>50</td>\n",
              "      <td>1</td>\n",
              "    </tr>\n",
              "    <tr>\n",
              "      <th>1</th>\n",
              "      <td>1</td>\n",
              "      <td>85</td>\n",
              "      <td>66</td>\n",
              "      <td>29</td>\n",
              "      <td>0</td>\n",
              "      <td>26.6</td>\n",
              "      <td>0.351</td>\n",
              "      <td>31</td>\n",
              "      <td>0</td>\n",
              "    </tr>\n",
              "    <tr>\n",
              "      <th>2</th>\n",
              "      <td>8</td>\n",
              "      <td>183</td>\n",
              "      <td>64</td>\n",
              "      <td>0</td>\n",
              "      <td>0</td>\n",
              "      <td>23.3</td>\n",
              "      <td>0.672</td>\n",
              "      <td>32</td>\n",
              "      <td>1</td>\n",
              "    </tr>\n",
              "    <tr>\n",
              "      <th>3</th>\n",
              "      <td>1</td>\n",
              "      <td>89</td>\n",
              "      <td>66</td>\n",
              "      <td>23</td>\n",
              "      <td>94</td>\n",
              "      <td>28.1</td>\n",
              "      <td>0.167</td>\n",
              "      <td>21</td>\n",
              "      <td>0</td>\n",
              "    </tr>\n",
              "    <tr>\n",
              "      <th>4</th>\n",
              "      <td>0</td>\n",
              "      <td>137</td>\n",
              "      <td>40</td>\n",
              "      <td>35</td>\n",
              "      <td>168</td>\n",
              "      <td>43.1</td>\n",
              "      <td>2.288</td>\n",
              "      <td>33</td>\n",
              "      <td>1</td>\n",
              "    </tr>\n",
              "  </tbody>\n",
              "</table>\n",
              "</div>"
            ],
            "text/plain": [
              "   Pregnancies  Glucose  BloodPressure  ...  DiabetesPedigreeFunction  Age  Outcome\n",
              "0            6      148             72  ...                     0.627   50        1\n",
              "1            1       85             66  ...                     0.351   31        0\n",
              "2            8      183             64  ...                     0.672   32        1\n",
              "3            1       89             66  ...                     0.167   21        0\n",
              "4            0      137             40  ...                     2.288   33        1\n",
              "\n",
              "[5 rows x 9 columns]"
            ]
          },
          "metadata": {
            "tags": []
          },
          "execution_count": 63
        }
      ]
    },
    {
      "cell_type": "code",
      "metadata": {
        "id": "sAlPFGpxhn83",
        "outputId": "7f4bcdfd-73ac-4d84-b8e4-5f4699e5796c",
        "colab": {
          "base_uri": "https://localhost:8080/",
          "height": 106
        }
      },
      "source": [
        "Diabetes_df = Diabetes_df.round(2)\n",
        "Diabetes_df.head(2)"
      ],
      "execution_count": 64,
      "outputs": [
        {
          "output_type": "execute_result",
          "data": {
            "text/html": [
              "<div>\n",
              "<style scoped>\n",
              "    .dataframe tbody tr th:only-of-type {\n",
              "        vertical-align: middle;\n",
              "    }\n",
              "\n",
              "    .dataframe tbody tr th {\n",
              "        vertical-align: top;\n",
              "    }\n",
              "\n",
              "    .dataframe thead th {\n",
              "        text-align: right;\n",
              "    }\n",
              "</style>\n",
              "<table border=\"1\" class=\"dataframe\">\n",
              "  <thead>\n",
              "    <tr style=\"text-align: right;\">\n",
              "      <th></th>\n",
              "      <th>Pregnancies</th>\n",
              "      <th>Glucose</th>\n",
              "      <th>BloodPressure</th>\n",
              "      <th>SkinThickness</th>\n",
              "      <th>Insulin</th>\n",
              "      <th>BMI</th>\n",
              "      <th>DiabetesPedigreeFunction</th>\n",
              "      <th>Age</th>\n",
              "      <th>Outcome</th>\n",
              "    </tr>\n",
              "  </thead>\n",
              "  <tbody>\n",
              "    <tr>\n",
              "      <th>0</th>\n",
              "      <td>6</td>\n",
              "      <td>148</td>\n",
              "      <td>72</td>\n",
              "      <td>35</td>\n",
              "      <td>0</td>\n",
              "      <td>33.6</td>\n",
              "      <td>0.63</td>\n",
              "      <td>50</td>\n",
              "      <td>1</td>\n",
              "    </tr>\n",
              "    <tr>\n",
              "      <th>1</th>\n",
              "      <td>1</td>\n",
              "      <td>85</td>\n",
              "      <td>66</td>\n",
              "      <td>29</td>\n",
              "      <td>0</td>\n",
              "      <td>26.6</td>\n",
              "      <td>0.35</td>\n",
              "      <td>31</td>\n",
              "      <td>0</td>\n",
              "    </tr>\n",
              "  </tbody>\n",
              "</table>\n",
              "</div>"
            ],
            "text/plain": [
              "   Pregnancies  Glucose  BloodPressure  ...  DiabetesPedigreeFunction  Age  Outcome\n",
              "0            6      148             72  ...                      0.63   50        1\n",
              "1            1       85             66  ...                      0.35   31        0\n",
              "\n",
              "[2 rows x 9 columns]"
            ]
          },
          "metadata": {
            "tags": []
          },
          "execution_count": 64
        }
      ]
    },
    {
      "cell_type": "code",
      "metadata": {
        "id": "4vzyxv7diBmH",
        "outputId": "48ff93b4-1cab-43a2-afd0-75ebfa11b317",
        "colab": {
          "base_uri": "https://localhost:8080/"
        }
      },
      "source": [
        "Diabetes_df.shape"
      ],
      "execution_count": 65,
      "outputs": [
        {
          "output_type": "execute_result",
          "data": {
            "text/plain": [
              "(768, 9)"
            ]
          },
          "metadata": {
            "tags": []
          },
          "execution_count": 65
        }
      ]
    },
    {
      "cell_type": "code",
      "metadata": {
        "id": "8ebqBSiAiM0g",
        "outputId": "62f01bb5-7a75-42ba-c514-eef527dcebaf",
        "colab": {
          "base_uri": "https://localhost:8080/"
        }
      },
      "source": [
        "Diabetes_df.isnull().sum()"
      ],
      "execution_count": 66,
      "outputs": [
        {
          "output_type": "execute_result",
          "data": {
            "text/plain": [
              "Pregnancies                 0\n",
              "Glucose                     0\n",
              "BloodPressure               0\n",
              "SkinThickness               0\n",
              "Insulin                     0\n",
              "BMI                         0\n",
              "DiabetesPedigreeFunction    0\n",
              "Age                         0\n",
              "Outcome                     0\n",
              "dtype: int64"
            ]
          },
          "metadata": {
            "tags": []
          },
          "execution_count": 66
        }
      ]
    },
    {
      "cell_type": "code",
      "metadata": {
        "id": "RMCXOcCziVdI",
        "outputId": "a7b69849-f0e0-456b-ca50-9af85df5dab6",
        "colab": {
          "base_uri": "https://localhost:8080/"
        }
      },
      "source": [
        "Diabetes_df.dtypes"
      ],
      "execution_count": 67,
      "outputs": [
        {
          "output_type": "execute_result",
          "data": {
            "text/plain": [
              "Pregnancies                   int64\n",
              "Glucose                       int64\n",
              "BloodPressure                 int64\n",
              "SkinThickness                 int64\n",
              "Insulin                       int64\n",
              "BMI                         float64\n",
              "DiabetesPedigreeFunction    float64\n",
              "Age                           int64\n",
              "Outcome                       int64\n",
              "dtype: object"
            ]
          },
          "metadata": {
            "tags": []
          },
          "execution_count": 67
        }
      ]
    },
    {
      "cell_type": "code",
      "metadata": {
        "id": "AJtecVYtjL8H",
        "outputId": "3225c501-0e07-4869-a32a-52a95cc8ed6b",
        "colab": {
          "base_uri": "https://localhost:8080/",
          "height": 284
        }
      },
      "source": [
        "Diabetes_df.iloc[-90:].describe().astype(int)"
      ],
      "execution_count": 68,
      "outputs": [
        {
          "output_type": "execute_result",
          "data": {
            "text/html": [
              "<div>\n",
              "<style scoped>\n",
              "    .dataframe tbody tr th:only-of-type {\n",
              "        vertical-align: middle;\n",
              "    }\n",
              "\n",
              "    .dataframe tbody tr th {\n",
              "        vertical-align: top;\n",
              "    }\n",
              "\n",
              "    .dataframe thead th {\n",
              "        text-align: right;\n",
              "    }\n",
              "</style>\n",
              "<table border=\"1\" class=\"dataframe\">\n",
              "  <thead>\n",
              "    <tr style=\"text-align: right;\">\n",
              "      <th></th>\n",
              "      <th>Pregnancies</th>\n",
              "      <th>Glucose</th>\n",
              "      <th>BloodPressure</th>\n",
              "      <th>SkinThickness</th>\n",
              "      <th>Insulin</th>\n",
              "      <th>BMI</th>\n",
              "      <th>DiabetesPedigreeFunction</th>\n",
              "      <th>Age</th>\n",
              "      <th>Outcome</th>\n",
              "    </tr>\n",
              "  </thead>\n",
              "  <tbody>\n",
              "    <tr>\n",
              "      <th>count</th>\n",
              "      <td>90</td>\n",
              "      <td>90</td>\n",
              "      <td>90</td>\n",
              "      <td>90</td>\n",
              "      <td>90</td>\n",
              "      <td>90</td>\n",
              "      <td>90</td>\n",
              "      <td>90</td>\n",
              "      <td>90</td>\n",
              "    </tr>\n",
              "    <tr>\n",
              "      <th>mean</th>\n",
              "      <td>3</td>\n",
              "      <td>124</td>\n",
              "      <td>70</td>\n",
              "      <td>20</td>\n",
              "      <td>81</td>\n",
              "      <td>32</td>\n",
              "      <td>0</td>\n",
              "      <td>33</td>\n",
              "      <td>0</td>\n",
              "    </tr>\n",
              "    <tr>\n",
              "      <th>std</th>\n",
              "      <td>3</td>\n",
              "      <td>28</td>\n",
              "      <td>18</td>\n",
              "      <td>15</td>\n",
              "      <td>114</td>\n",
              "      <td>8</td>\n",
              "      <td>0</td>\n",
              "      <td>11</td>\n",
              "      <td>0</td>\n",
              "    </tr>\n",
              "    <tr>\n",
              "      <th>min</th>\n",
              "      <td>0</td>\n",
              "      <td>56</td>\n",
              "      <td>0</td>\n",
              "      <td>0</td>\n",
              "      <td>0</td>\n",
              "      <td>0</td>\n",
              "      <td>0</td>\n",
              "      <td>21</td>\n",
              "      <td>0</td>\n",
              "    </tr>\n",
              "    <tr>\n",
              "      <th>25%</th>\n",
              "      <td>1</td>\n",
              "      <td>102</td>\n",
              "      <td>62</td>\n",
              "      <td>0</td>\n",
              "      <td>0</td>\n",
              "      <td>28</td>\n",
              "      <td>0</td>\n",
              "      <td>24</td>\n",
              "      <td>0</td>\n",
              "    </tr>\n",
              "    <tr>\n",
              "      <th>50%</th>\n",
              "      <td>3</td>\n",
              "      <td>121</td>\n",
              "      <td>74</td>\n",
              "      <td>24</td>\n",
              "      <td>0</td>\n",
              "      <td>32</td>\n",
              "      <td>0</td>\n",
              "      <td>29</td>\n",
              "      <td>0</td>\n",
              "    </tr>\n",
              "    <tr>\n",
              "      <th>75%</th>\n",
              "      <td>6</td>\n",
              "      <td>140</td>\n",
              "      <td>80</td>\n",
              "      <td>32</td>\n",
              "      <td>136</td>\n",
              "      <td>37</td>\n",
              "      <td>0</td>\n",
              "      <td>42</td>\n",
              "      <td>1</td>\n",
              "    </tr>\n",
              "    <tr>\n",
              "      <th>max</th>\n",
              "      <td>13</td>\n",
              "      <td>190</td>\n",
              "      <td>114</td>\n",
              "      <td>49</td>\n",
              "      <td>510</td>\n",
              "      <td>49</td>\n",
              "      <td>1</td>\n",
              "      <td>69</td>\n",
              "      <td>1</td>\n",
              "    </tr>\n",
              "  </tbody>\n",
              "</table>\n",
              "</div>"
            ],
            "text/plain": [
              "       Pregnancies  Glucose  ...  Age  Outcome\n",
              "count           90       90  ...   90       90\n",
              "mean             3      124  ...   33        0\n",
              "std              3       28  ...   11        0\n",
              "min              0       56  ...   21        0\n",
              "25%              1      102  ...   24        0\n",
              "50%              3      121  ...   29        0\n",
              "75%              6      140  ...   42        1\n",
              "max             13      190  ...   69        1\n",
              "\n",
              "[8 rows x 9 columns]"
            ]
          },
          "metadata": {
            "tags": []
          },
          "execution_count": 68
        }
      ]
    },
    {
      "cell_type": "code",
      "metadata": {
        "id": "1PB1vOrqhiLD",
        "outputId": "337c6a04-0f1b-43b5-e1b8-52c96d3e8877",
        "colab": {
          "base_uri": "https://localhost:8080/",
          "height": 729
        }
      },
      "source": [
        "categori = ['Glucose','Insulin']\n",
        "for i in categori:\n",
        "  plt.figure(figsize=(20,6))\n",
        "  ax = sns.countplot(x=i,data=Diabetes_df);\n",
        "  ax.set_xticklabels(ax.get_xticklabels(), rotation=90, ha=\"right\",fontsize=6);"
      ],
      "execution_count": 69,
      "outputs": [
        {
          "output_type": "display_data",
          "data": {
            "image/png": "[encoded data removed]",
            "text/plain": [
              "<Figure size 1440x432 with 1 Axes>"
            ]
          },
          "metadata": {
            "tags": [],
            "needs_background": "light"
          }
        },
        {
          "output_type": "display_data",
          "data": {
            "image/png": "[encoded data removed]",
            "text/plain": [
              "<Figure size 1440x432 with 1 Axes>"
            ]
          },
          "metadata": {
            "tags": [],
            "needs_background": "light"
          }
        }
      ]
    },
    {
      "cell_type": "markdown",
      "metadata": {
        "id": "I3RCc6iSTqVF"
      },
      "source": [
        "#### Penjelasan\n",
        "\n",
        "1. Pertama, pada grafik data Glucose, bentuk grafik sudah cukup simetris sehingga hal ini menunjukan bahwa distribusi data pada variabel Glucose sudah bagus. Dilihat juga karena persebaran data pada variabel Glucose lumayan banyak, ada kemungkinan variabel glucose ini memiliki korelasi yang cukup kuat terhadapt variabel keluaran.\n",
        "\n",
        "2. Kedua, pada grafik Insulin, terlihat bahwa data pada insulin yang bernilai 0, dan juga ada sedikitnya data pada insulin yang terdistribusi, ini juga berhubungan dengan korelasi dimana variabel insulin dengan data yang sedikit mungkin tidak berkorelasi terlalu kuat dengan variabel keluaran."
      ]
    },
    {
      "cell_type": "markdown",
      "metadata": {
        "id": "h4F8SM0xTqVG"
      },
      "source": [
        "### Soal 2 (25 poin)\n",
        "Tampilkan visualisasi dari korelasi (i) antar variabel dan (ii) antara variabel dan target, lalu jelaskan hasil korelasinya."
      ]
    },
    {
      "cell_type": "markdown",
      "metadata": {
        "id": "OcL9xBkxTqVH"
      },
      "source": [
        "#### Code"
      ]
    },
    {
      "cell_type": "code",
      "metadata": {
        "id": "svoVUEJOTqVI",
        "outputId": "202fdf20-3680-49dd-c83f-6728efca9770",
        "colab": {
          "base_uri": "https://localhost:8080/",
          "height": 779
        }
      },
      "source": [
        "#Korelasi Antar Variabel (i)\n",
        "\n",
        "corr = Diabetes_df.corr()\n",
        "mask = np.array(corr)\n",
        "mask[np.tril_indices_from(mask)] = False\n",
        "fig, ax = plt.subplots(figsize = (15,12))\n",
        "fig.set_size_inches(12,12)\n",
        "sns.heatmap(corr, mask = mask, vmax = 0.9, square = True, annot = True)"
      ],
      "execution_count": 70,
      "outputs": [
        {
          "output_type": "execute_result",
          "data": {
            "text/plain": [
              "<matplotlib.axes._subplots.AxesSubplot at 0x7fbc3f3695c0>"
            ]
          },
          "metadata": {
            "tags": []
          },
          "execution_count": 70
        },
        {
          "output_type": "display_data",
          "data": {
            "image/png": "[encoded data removed]",
            "text/plain": [
              "<Figure size 864x864 with 2 Axes>"
            ]
          },
          "metadata": {
            "tags": [],
            "needs_background": "light"
          }
        }
      ]
    },
    {
      "cell_type": "code",
      "metadata": {
        "id": "GDnDdaXYbexi",
        "outputId": "e1df9d6b-6bbb-4bab-cfd2-7d8d917d759f",
        "colab": {
          "base_uri": "https://localhost:8080/"
        }
      },
      "source": [
        "#Korelasi Antara Variabel dan Target (ii)\n",
        "\n",
        "#Correlation with output variable\n",
        "cor_target = abs(corr[\"Outcome\"])\n",
        "#Selecting highly correlated features\n",
        "relevant_features = cor_target[cor_target!=1]\n",
        "relevant_features"
      ],
      "execution_count": 71,
      "outputs": [
        {
          "output_type": "execute_result",
          "data": {
            "text/plain": [
              "Pregnancies                 0.221898\n",
              "Glucose                     0.466581\n",
              "BloodPressure               0.065068\n",
              "SkinThickness               0.074752\n",
              "Insulin                     0.130548\n",
              "BMI                         0.292695\n",
              "DiabetesPedigreeFunction    0.173288\n",
              "Age                         0.238356\n",
              "Name: Outcome, dtype: float64"
            ]
          },
          "metadata": {
            "tags": []
          },
          "execution_count": 71
        }
      ]
    },
    {
      "cell_type": "markdown",
      "metadata": {
        "id": "10ACFPNlTqVM"
      },
      "source": [
        "#### Penjelasan \n",
        "(i) Pada korelasi antar variabel (i) saya menggunakan heatmap untuk melihat korelasi antar tiap variabel. Pada grafik heatmap yang ditampilkan terdapat range angka antara 0-1 dan juga ada tanda (+) dan (-) yang merupakan arah hubungan koefisien. Jika koefisien semakin mendekati angka 1 atau -1 maka hubungan antara dua variabel tersebut akan semakin kuat, dan apabila nilai koefisien mendekati angka 0, itu menunjukan hubungan antara dua variabel tersebut akan semakin kecil/lemah. Lalu tanda arah hubungan koefisien bertanda (+) berarti hubungan kedua variabel tersebut positif, artinya jika salah satu dari dua varibael yang behubungan nilainya ditingkatkan, maka nilai variabel satunya lagi akan ikut meningkat. Sebaliknya jika nilai koefisien bertanda (-) itu menandakan hubungan antara dua variabel tersebut negatif. Artinya jika salah satu dari dua varibael yang behubungan nilainya ditingkatkan, maka variabel satunya lagi nilainya akan menurun.\n",
        "\n",
        "(ii) Pada korelasi antar variabel dan target (ii) saya menggunakan fitur relevansi. Seperti yang dapat dilihat pada output, hanya variabel Pregnancies, Glucose, BloodPressure, SkinThickness, Insulin, BMI, DiabetesPedigreeFunction, Age, yang sangat berkorelasi dengan variabel keluaran \"Outcome\" dengan variabel Glucose yang memiliki korelasi paling tinggi terhadap variabel keluaran \"Outcome\""
      ]
    },
    {
      "cell_type": "markdown",
      "metadata": {
        "id": "ZaONc6mJTqVN"
      },
      "source": [
        "### Kasus 2: Stock Market Analysis (Soal 3 - 4)\n",
        "Pada kasus ini, kita akan membandingkan beberapa parameter yang diturunkan dari data historis harga saham dari 3 perusahaan, yaitu Nasdaq, Nikkei dan Hang Seng. Data set dapat diunduh melalui [tautan ini](https://www.dl.dropboxusercontent.com/s/0wny6x5sio9nvap/stock_market.zip?dl=0)."
      ]
    },
    {
      "cell_type": "markdown",
      "metadata": {
        "id": "k2WJ2QlkTqVO"
      },
      "source": [
        "### Soal 3 (30 poin)\n",
        "Lakukanlah _trend analysis_ nilai _daily percentage change_ dari ketiga harga saham tersebut selama tahun 2019, lalu tampilkan dan jelaskan melalui visualisasi data.\n",
        "_Trend analysis_ dilakukan dengan menggunakan hubungan berikut:\n",
        "![output%2011.png](https://www.dl.dropboxusercontent.com/s/dxmrm74ksz5l9v2/trend_analysis_fig.png?dl=0)"
      ]
    },
    {
      "cell_type": "markdown",
      "metadata": {
        "id": "4MYv6VvZ_ECC"
      },
      "source": [
        "#### Code"
      ]
    },
    {
      "cell_type": "code",
      "metadata": {
        "id": "dAOD2w2Vquib",
        "outputId": "603e2b47-4551-499f-f25b-e4da509314c2",
        "colab": {
          "base_uri": "https://localhost:8080/",
          "height": 195
        }
      },
      "source": [
        "#NASDAQ\n",
        "#Read Dataaset Nasdaq\n",
        "Nasdaq_df = pd.read_csv('Nasdaq.csv')\n",
        "Nasdaq_df.head()"
      ],
      "execution_count": 72,
      "outputs": [
        {
          "output_type": "execute_result",
          "data": {
            "text/html": [
              "<div>\n",
              "<style scoped>\n",
              "    .dataframe tbody tr th:only-of-type {\n",
              "        vertical-align: middle;\n",
              "    }\n",
              "\n",
              "    .dataframe tbody tr th {\n",
              "        vertical-align: top;\n",
              "    }\n",
              "\n",
              "    .dataframe thead th {\n",
              "        text-align: right;\n",
              "    }\n",
              "</style>\n",
              "<table border=\"1\" class=\"dataframe\">\n",
              "  <thead>\n",
              "    <tr style=\"text-align: right;\">\n",
              "      <th></th>\n",
              "      <th>Date</th>\n",
              "      <th>Open</th>\n",
              "      <th>High</th>\n",
              "      <th>Low</th>\n",
              "      <th>Close</th>\n",
              "      <th>Adj Close</th>\n",
              "      <th>Volume</th>\n",
              "    </tr>\n",
              "  </thead>\n",
              "  <tbody>\n",
              "    <tr>\n",
              "      <th>0</th>\n",
              "      <td>2018-10-19</td>\n",
              "      <td>7530.160156</td>\n",
              "      <td>7582.890137</td>\n",
              "      <td>7428.299805</td>\n",
              "      <td>7449.029785</td>\n",
              "      <td>7449.029785</td>\n",
              "      <td>2532220000</td>\n",
              "    </tr>\n",
              "    <tr>\n",
              "      <th>1</th>\n",
              "      <td>2018-10-22</td>\n",
              "      <td>7486.740234</td>\n",
              "      <td>7520.540039</td>\n",
              "      <td>7424.740234</td>\n",
              "      <td>7468.629883</td>\n",
              "      <td>7468.629883</td>\n",
              "      <td>2282400000</td>\n",
              "    </tr>\n",
              "    <tr>\n",
              "      <th>2</th>\n",
              "      <td>2018-10-23</td>\n",
              "      <td>7328.549805</td>\n",
              "      <td>7472.580078</td>\n",
              "      <td>7260.129883</td>\n",
              "      <td>7437.540039</td>\n",
              "      <td>7437.540039</td>\n",
              "      <td>2735820000</td>\n",
              "    </tr>\n",
              "    <tr>\n",
              "      <th>3</th>\n",
              "      <td>2018-10-24</td>\n",
              "      <td>7423.209961</td>\n",
              "      <td>7435.689941</td>\n",
              "      <td>7099.000000</td>\n",
              "      <td>7108.399902</td>\n",
              "      <td>7108.399902</td>\n",
              "      <td>2935550000</td>\n",
              "    </tr>\n",
              "    <tr>\n",
              "      <th>4</th>\n",
              "      <td>2018-10-25</td>\n",
              "      <td>7197.490234</td>\n",
              "      <td>7364.819824</td>\n",
              "      <td>7178.540039</td>\n",
              "      <td>7318.339844</td>\n",
              "      <td>7318.339844</td>\n",
              "      <td>2741810000</td>\n",
              "    </tr>\n",
              "  </tbody>\n",
              "</table>\n",
              "</div>"
            ],
            "text/plain": [
              "         Date         Open         High  ...        Close    Adj Close      Volume\n",
              "0  2018-10-19  7530.160156  7582.890137  ...  7449.029785  7449.029785  2532220000\n",
              "1  2018-10-22  7486.740234  7520.540039  ...  7468.629883  7468.629883  2282400000\n",
              "2  2018-10-23  7328.549805  7472.580078  ...  7437.540039  7437.540039  2735820000\n",
              "3  2018-10-24  7423.209961  7435.689941  ...  7108.399902  7108.399902  2935550000\n",
              "4  2018-10-25  7197.490234  7364.819824  ...  7318.339844  7318.339844  2741810000\n",
              "\n",
              "[5 rows x 7 columns]"
            ]
          },
          "metadata": {
            "tags": []
          },
          "execution_count": 72
        }
      ]
    },
    {
      "cell_type": "code",
      "metadata": {
        "id": "tmkR7UaWwFhJ",
        "outputId": "42c70ac1-0cb5-4d18-8b2d-d63f3729c895",
        "colab": {
          "base_uri": "https://localhost:8080/",
          "height": 106
        }
      },
      "source": [
        "Nasdaq_df = Nasdaq_df.round(2)\n",
        "Nasdaq_df.head(2)"
      ],
      "execution_count": 73,
      "outputs": [
        {
          "output_type": "execute_result",
          "data": {
            "text/html": [
              "<div>\n",
              "<style scoped>\n",
              "    .dataframe tbody tr th:only-of-type {\n",
              "        vertical-align: middle;\n",
              "    }\n",
              "\n",
              "    .dataframe tbody tr th {\n",
              "        vertical-align: top;\n",
              "    }\n",
              "\n",
              "    .dataframe thead th {\n",
              "        text-align: right;\n",
              "    }\n",
              "</style>\n",
              "<table border=\"1\" class=\"dataframe\">\n",
              "  <thead>\n",
              "    <tr style=\"text-align: right;\">\n",
              "      <th></th>\n",
              "      <th>Date</th>\n",
              "      <th>Open</th>\n",
              "      <th>High</th>\n",
              "      <th>Low</th>\n",
              "      <th>Close</th>\n",
              "      <th>Adj Close</th>\n",
              "      <th>Volume</th>\n",
              "    </tr>\n",
              "  </thead>\n",
              "  <tbody>\n",
              "    <tr>\n",
              "      <th>0</th>\n",
              "      <td>2018-10-19</td>\n",
              "      <td>7530.16</td>\n",
              "      <td>7582.89</td>\n",
              "      <td>7428.30</td>\n",
              "      <td>7449.03</td>\n",
              "      <td>7449.03</td>\n",
              "      <td>2532220000</td>\n",
              "    </tr>\n",
              "    <tr>\n",
              "      <th>1</th>\n",
              "      <td>2018-10-22</td>\n",
              "      <td>7486.74</td>\n",
              "      <td>7520.54</td>\n",
              "      <td>7424.74</td>\n",
              "      <td>7468.63</td>\n",
              "      <td>7468.63</td>\n",
              "      <td>2282400000</td>\n",
              "    </tr>\n",
              "  </tbody>\n",
              "</table>\n",
              "</div>"
            ],
            "text/plain": [
              "         Date     Open     High      Low    Close  Adj Close      Volume\n",
              "0  2018-10-19  7530.16  7582.89  7428.30  7449.03    7449.03  2532220000\n",
              "1  2018-10-22  7486.74  7520.54  7424.74  7468.63    7468.63  2282400000"
            ]
          },
          "metadata": {
            "tags": []
          },
          "execution_count": 73
        }
      ]
    },
    {
      "cell_type": "code",
      "metadata": {
        "id": "AKSwKm8owd4a",
        "outputId": "8220dfe9-7add-4376-e19b-f276818bbab7",
        "colab": {
          "base_uri": "https://localhost:8080/"
        }
      },
      "source": [
        "Nasdaq_df.shape"
      ],
      "execution_count": 74,
      "outputs": [
        {
          "output_type": "execute_result",
          "data": {
            "text/plain": [
              "(502, 7)"
            ]
          },
          "metadata": {
            "tags": []
          },
          "execution_count": 74
        }
      ]
    },
    {
      "cell_type": "code",
      "metadata": {
        "id": "Nf5JDKQ1vV19",
        "outputId": "187f8095-d928-473c-987f-5cf50494b61d",
        "colab": {
          "base_uri": "https://localhost:8080/"
        }
      },
      "source": [
        "Nasdaq_df.isnull().sum()"
      ],
      "execution_count": 75,
      "outputs": [
        {
          "output_type": "execute_result",
          "data": {
            "text/plain": [
              "Date         0\n",
              "Open         0\n",
              "High         0\n",
              "Low          0\n",
              "Close        0\n",
              "Adj Close    0\n",
              "Volume       0\n",
              "dtype: int64"
            ]
          },
          "metadata": {
            "tags": []
          },
          "execution_count": 75
        }
      ]
    },
    {
      "cell_type": "code",
      "metadata": {
        "id": "C_BG2Bv8xJQi",
        "outputId": "cb8dbbae-9144-484d-bf8b-f933afb47156",
        "colab": {
          "base_uri": "https://localhost:8080/"
        }
      },
      "source": [
        "Nasdaq_df.dtypes"
      ],
      "execution_count": 76,
      "outputs": [
        {
          "output_type": "execute_result",
          "data": {
            "text/plain": [
              "Date          object\n",
              "Open         float64\n",
              "High         float64\n",
              "Low          float64\n",
              "Close        float64\n",
              "Adj Close    float64\n",
              "Volume         int64\n",
              "dtype: object"
            ]
          },
          "metadata": {
            "tags": []
          },
          "execution_count": 76
        }
      ]
    },
    {
      "cell_type": "code",
      "metadata": {
        "id": "MQ2istVFxJTh",
        "outputId": "65f93d10-578e-4e81-81c1-a490564a0d99",
        "colab": {
          "base_uri": "https://localhost:8080/",
          "height": 106
        }
      },
      "source": [
        "Nasdaq_df['Date'] = pd.to_datetime(Nasdaq_df['Date'])\n",
        "Nasdaq_df.head(2)"
      ],
      "execution_count": 77,
      "outputs": [
        {
          "output_type": "execute_result",
          "data": {
            "text/html": [
              "<div>\n",
              "<style scoped>\n",
              "    .dataframe tbody tr th:only-of-type {\n",
              "        vertical-align: middle;\n",
              "    }\n",
              "\n",
              "    .dataframe tbody tr th {\n",
              "        vertical-align: top;\n",
              "    }\n",
              "\n",
              "    .dataframe thead th {\n",
              "        text-align: right;\n",
              "    }\n",
              "</style>\n",
              "<table border=\"1\" class=\"dataframe\">\n",
              "  <thead>\n",
              "    <tr style=\"text-align: right;\">\n",
              "      <th></th>\n",
              "      <th>Date</th>\n",
              "      <th>Open</th>\n",
              "      <th>High</th>\n",
              "      <th>Low</th>\n",
              "      <th>Close</th>\n",
              "      <th>Adj Close</th>\n",
              "      <th>Volume</th>\n",
              "    </tr>\n",
              "  </thead>\n",
              "  <tbody>\n",
              "    <tr>\n",
              "      <th>0</th>\n",
              "      <td>2018-10-19</td>\n",
              "      <td>7530.16</td>\n",
              "      <td>7582.89</td>\n",
              "      <td>7428.30</td>\n",
              "      <td>7449.03</td>\n",
              "      <td>7449.03</td>\n",
              "      <td>2532220000</td>\n",
              "    </tr>\n",
              "    <tr>\n",
              "      <th>1</th>\n",
              "      <td>2018-10-22</td>\n",
              "      <td>7486.74</td>\n",
              "      <td>7520.54</td>\n",
              "      <td>7424.74</td>\n",
              "      <td>7468.63</td>\n",
              "      <td>7468.63</td>\n",
              "      <td>2282400000</td>\n",
              "    </tr>\n",
              "  </tbody>\n",
              "</table>\n",
              "</div>"
            ],
            "text/plain": [
              "        Date     Open     High      Low    Close  Adj Close      Volume\n",
              "0 2018-10-19  7530.16  7582.89  7428.30  7449.03    7449.03  2532220000\n",
              "1 2018-10-22  7486.74  7520.54  7424.74  7468.63    7468.63  2282400000"
            ]
          },
          "metadata": {
            "tags": []
          },
          "execution_count": 77
        }
      ]
    },
    {
      "cell_type": "code",
      "metadata": {
        "id": "10YXHzKqxJXh",
        "outputId": "106efbc2-52e4-47bc-c368-b952bdd80557",
        "colab": {
          "base_uri": "https://localhost:8080/"
        }
      },
      "source": [
        "type(Nasdaq_df.loc[0,'Date'])"
      ],
      "execution_count": 78,
      "outputs": [
        {
          "output_type": "execute_result",
          "data": {
            "text/plain": [
              "pandas._libs.tslibs.timestamps.Timestamp"
            ]
          },
          "metadata": {
            "tags": []
          },
          "execution_count": 78
        }
      ]
    },
    {
      "cell_type": "code",
      "metadata": {
        "id": "QoMaBzaVxo_8",
        "outputId": "8330691b-1234-405e-887c-3744b42ac7d9",
        "colab": {
          "base_uri": "https://localhost:8080/"
        }
      },
      "source": [
        "Nasdaq_df['Date'].max() - Nasdaq_df['Date'].min()"
      ],
      "execution_count": 79,
      "outputs": [
        {
          "output_type": "execute_result",
          "data": {
            "text/plain": [
              "Timedelta('728 days 00:00:00')"
            ]
          },
          "metadata": {
            "tags": []
          },
          "execution_count": 79
        }
      ]
    },
    {
      "cell_type": "code",
      "metadata": {
        "id": "dDyNDyQixpCq",
        "outputId": "12d776d9-f38a-42f4-afcb-b9a322d1b5e2",
        "colab": {
          "base_uri": "https://localhost:8080/",
          "height": 284
        }
      },
      "source": [
        "Nasdaq_df.iloc[-90:].describe().astype(int)"
      ],
      "execution_count": 80,
      "outputs": [
        {
          "output_type": "execute_result",
          "data": {
            "text/html": [
              "<div>\n",
              "<style scoped>\n",
              "    .dataframe tbody tr th:only-of-type {\n",
              "        vertical-align: middle;\n",
              "    }\n",
              "\n",
              "    .dataframe tbody tr th {\n",
              "        vertical-align: top;\n",
              "    }\n",
              "\n",
              "    .dataframe thead th {\n",
              "        text-align: right;\n",
              "    }\n",
              "</style>\n",
              "<table border=\"1\" class=\"dataframe\">\n",
              "  <thead>\n",
              "    <tr style=\"text-align: right;\">\n",
              "      <th></th>\n",
              "      <th>Open</th>\n",
              "      <th>High</th>\n",
              "      <th>Low</th>\n",
              "      <th>Close</th>\n",
              "      <th>Adj Close</th>\n",
              "      <th>Volume</th>\n",
              "    </tr>\n",
              "  </thead>\n",
              "  <tbody>\n",
              "    <tr>\n",
              "      <th>count</th>\n",
              "      <td>90</td>\n",
              "      <td>90</td>\n",
              "      <td>90</td>\n",
              "      <td>90</td>\n",
              "      <td>90</td>\n",
              "      <td>90</td>\n",
              "    </tr>\n",
              "    <tr>\n",
              "      <th>mean</th>\n",
              "      <td>10840</td>\n",
              "      <td>10930</td>\n",
              "      <td>10733</td>\n",
              "      <td>10841</td>\n",
              "      <td>10841</td>\n",
              "      <td>4093863777</td>\n",
              "    </tr>\n",
              "    <tr>\n",
              "      <th>std</th>\n",
              "      <td>591</td>\n",
              "      <td>585</td>\n",
              "      <td>597</td>\n",
              "      <td>591</td>\n",
              "      <td>591</td>\n",
              "      <td>672381737</td>\n",
              "    </tr>\n",
              "    <tr>\n",
              "      <th>min</th>\n",
              "      <td>9426</td>\n",
              "      <td>9756</td>\n",
              "      <td>9403</td>\n",
              "      <td>9492</td>\n",
              "      <td>9492</td>\n",
              "      <td>2997810000</td>\n",
              "    </tr>\n",
              "    <tr>\n",
              "      <th>25%</th>\n",
              "      <td>10445</td>\n",
              "      <td>10525</td>\n",
              "      <td>10371</td>\n",
              "      <td>10477</td>\n",
              "      <td>10477</td>\n",
              "      <td>3608095000</td>\n",
              "    </tr>\n",
              "    <tr>\n",
              "      <th>50%</th>\n",
              "      <td>10921</td>\n",
              "      <td>10984</td>\n",
              "      <td>10807</td>\n",
              "      <td>10911</td>\n",
              "      <td>10911</td>\n",
              "      <td>4008355000</td>\n",
              "    </tr>\n",
              "    <tr>\n",
              "      <th>75%</th>\n",
              "      <td>11220</td>\n",
              "      <td>11295</td>\n",
              "      <td>11119</td>\n",
              "      <td>11205</td>\n",
              "      <td>11205</td>\n",
              "      <td>4329237500</td>\n",
              "    </tr>\n",
              "    <tr>\n",
              "      <th>max</th>\n",
              "      <td>12047</td>\n",
              "      <td>12074</td>\n",
              "      <td>11836</td>\n",
              "      <td>12056</td>\n",
              "      <td>12056</td>\n",
              "      <td>7279230000</td>\n",
              "    </tr>\n",
              "  </tbody>\n",
              "</table>\n",
              "</div>"
            ],
            "text/plain": [
              "        Open   High    Low  Close  Adj Close      Volume\n",
              "count     90     90     90     90         90          90\n",
              "mean   10840  10930  10733  10841      10841  4093863777\n",
              "std      591    585    597    591        591   672381737\n",
              "min     9426   9756   9403   9492       9492  2997810000\n",
              "25%    10445  10525  10371  10477      10477  3608095000\n",
              "50%    10921  10984  10807  10911      10911  4008355000\n",
              "75%    11220  11295  11119  11205      11205  4329237500\n",
              "max    12047  12074  11836  12056      12056  7279230000"
            ]
          },
          "metadata": {
            "tags": []
          },
          "execution_count": 80
        }
      ]
    },
    {
      "cell_type": "code",
      "metadata": {
        "id": "V1iJuZRXy72N",
        "outputId": "92cf70f9-ca00-4dd9-d350-fb55a364ac2f",
        "colab": {
          "base_uri": "https://localhost:8080/",
          "height": 195
        }
      },
      "source": [
        "Nasdaq_df['Day_Perc_Change'] = Nasdaq_df['Adj Close'].pct_change()*100\n",
        "Nasdaq_df.head()"
      ],
      "execution_count": 81,
      "outputs": [
        {
          "output_type": "execute_result",
          "data": {
            "text/html": [
              "<div>\n",
              "<style scoped>\n",
              "    .dataframe tbody tr th:only-of-type {\n",
              "        vertical-align: middle;\n",
              "    }\n",
              "\n",
              "    .dataframe tbody tr th {\n",
              "        vertical-align: top;\n",
              "    }\n",
              "\n",
              "    .dataframe thead th {\n",
              "        text-align: right;\n",
              "    }\n",
              "</style>\n",
              "<table border=\"1\" class=\"dataframe\">\n",
              "  <thead>\n",
              "    <tr style=\"text-align: right;\">\n",
              "      <th></th>\n",
              "      <th>Date</th>\n",
              "      <th>Open</th>\n",
              "      <th>High</th>\n",
              "      <th>Low</th>\n",
              "      <th>Close</th>\n",
              "      <th>Adj Close</th>\n",
              "      <th>Volume</th>\n",
              "      <th>Day_Perc_Change</th>\n",
              "    </tr>\n",
              "  </thead>\n",
              "  <tbody>\n",
              "    <tr>\n",
              "      <th>0</th>\n",
              "      <td>2018-10-19</td>\n",
              "      <td>7530.16</td>\n",
              "      <td>7582.89</td>\n",
              "      <td>7428.30</td>\n",
              "      <td>7449.03</td>\n",
              "      <td>7449.03</td>\n",
              "      <td>2532220000</td>\n",
              "      <td>NaN</td>\n",
              "    </tr>\n",
              "    <tr>\n",
              "      <th>1</th>\n",
              "      <td>2018-10-22</td>\n",
              "      <td>7486.74</td>\n",
              "      <td>7520.54</td>\n",
              "      <td>7424.74</td>\n",
              "      <td>7468.63</td>\n",
              "      <td>7468.63</td>\n",
              "      <td>2282400000</td>\n",
              "      <td>0.263122</td>\n",
              "    </tr>\n",
              "    <tr>\n",
              "      <th>2</th>\n",
              "      <td>2018-10-23</td>\n",
              "      <td>7328.55</td>\n",
              "      <td>7472.58</td>\n",
              "      <td>7260.13</td>\n",
              "      <td>7437.54</td>\n",
              "      <td>7437.54</td>\n",
              "      <td>2735820000</td>\n",
              "      <td>-0.416274</td>\n",
              "    </tr>\n",
              "    <tr>\n",
              "      <th>3</th>\n",
              "      <td>2018-10-24</td>\n",
              "      <td>7423.21</td>\n",
              "      <td>7435.69</td>\n",
              "      <td>7099.00</td>\n",
              "      <td>7108.40</td>\n",
              "      <td>7108.40</td>\n",
              "      <td>2935550000</td>\n",
              "      <td>-4.425388</td>\n",
              "    </tr>\n",
              "    <tr>\n",
              "      <th>4</th>\n",
              "      <td>2018-10-25</td>\n",
              "      <td>7197.49</td>\n",
              "      <td>7364.82</td>\n",
              "      <td>7178.54</td>\n",
              "      <td>7318.34</td>\n",
              "      <td>7318.34</td>\n",
              "      <td>2741810000</td>\n",
              "      <td>2.953407</td>\n",
              "    </tr>\n",
              "  </tbody>\n",
              "</table>\n",
              "</div>"
            ],
            "text/plain": [
              "        Date     Open     High  ...  Adj Close      Volume  Day_Perc_Change\n",
              "0 2018-10-19  7530.16  7582.89  ...    7449.03  2532220000              NaN\n",
              "1 2018-10-22  7486.74  7520.54  ...    7468.63  2282400000         0.263122\n",
              "2 2018-10-23  7328.55  7472.58  ...    7437.54  2735820000        -0.416274\n",
              "3 2018-10-24  7423.21  7435.69  ...    7108.40  2935550000        -4.425388\n",
              "4 2018-10-25  7197.49  7364.82  ...    7318.34  2741810000         2.953407\n",
              "\n",
              "[5 rows x 8 columns]"
            ]
          },
          "metadata": {
            "tags": []
          },
          "execution_count": 81
        }
      ]
    },
    {
      "cell_type": "code",
      "metadata": {
        "id": "VkNdBFWxy79e",
        "outputId": "5dd8c620-8bb2-4dc9-a1ed-552dabc76b90",
        "colab": {
          "base_uri": "https://localhost:8080/",
          "height": 195
        }
      },
      "source": [
        "Nasdaq_df.dropna(inplace = True, axis = 0)\n",
        "Nasdaq_df.head()"
      ],
      "execution_count": 82,
      "outputs": [
        {
          "output_type": "execute_result",
          "data": {
            "text/html": [
              "<div>\n",
              "<style scoped>\n",
              "    .dataframe tbody tr th:only-of-type {\n",
              "        vertical-align: middle;\n",
              "    }\n",
              "\n",
              "    .dataframe tbody tr th {\n",
              "        vertical-align: top;\n",
              "    }\n",
              "\n",
              "    .dataframe thead th {\n",
              "        text-align: right;\n",
              "    }\n",
              "</style>\n",
              "<table border=\"1\" class=\"dataframe\">\n",
              "  <thead>\n",
              "    <tr style=\"text-align: right;\">\n",
              "      <th></th>\n",
              "      <th>Date</th>\n",
              "      <th>Open</th>\n",
              "      <th>High</th>\n",
              "      <th>Low</th>\n",
              "      <th>Close</th>\n",
              "      <th>Adj Close</th>\n",
              "      <th>Volume</th>\n",
              "      <th>Day_Perc_Change</th>\n",
              "    </tr>\n",
              "  </thead>\n",
              "  <tbody>\n",
              "    <tr>\n",
              "      <th>1</th>\n",
              "      <td>2018-10-22</td>\n",
              "      <td>7486.74</td>\n",
              "      <td>7520.54</td>\n",
              "      <td>7424.74</td>\n",
              "      <td>7468.63</td>\n",
              "      <td>7468.63</td>\n",
              "      <td>2282400000</td>\n",
              "      <td>0.263122</td>\n",
              "    </tr>\n",
              "    <tr>\n",
              "      <th>2</th>\n",
              "      <td>2018-10-23</td>\n",
              "      <td>7328.55</td>\n",
              "      <td>7472.58</td>\n",
              "      <td>7260.13</td>\n",
              "      <td>7437.54</td>\n",
              "      <td>7437.54</td>\n",
              "      <td>2735820000</td>\n",
              "      <td>-0.416274</td>\n",
              "    </tr>\n",
              "    <tr>\n",
              "      <th>3</th>\n",
              "      <td>2018-10-24</td>\n",
              "      <td>7423.21</td>\n",
              "      <td>7435.69</td>\n",
              "      <td>7099.00</td>\n",
              "      <td>7108.40</td>\n",
              "      <td>7108.40</td>\n",
              "      <td>2935550000</td>\n",
              "      <td>-4.425388</td>\n",
              "    </tr>\n",
              "    <tr>\n",
              "      <th>4</th>\n",
              "      <td>2018-10-25</td>\n",
              "      <td>7197.49</td>\n",
              "      <td>7364.82</td>\n",
              "      <td>7178.54</td>\n",
              "      <td>7318.34</td>\n",
              "      <td>7318.34</td>\n",
              "      <td>2741810000</td>\n",
              "      <td>2.953407</td>\n",
              "    </tr>\n",
              "    <tr>\n",
              "      <th>5</th>\n",
              "      <td>2018-10-26</td>\n",
              "      <td>7125.18</td>\n",
              "      <td>7283.32</td>\n",
              "      <td>7057.00</td>\n",
              "      <td>7167.21</td>\n",
              "      <td>7167.21</td>\n",
              "      <td>2964780000</td>\n",
              "      <td>-2.065086</td>\n",
              "    </tr>\n",
              "  </tbody>\n",
              "</table>\n",
              "</div>"
            ],
            "text/plain": [
              "        Date     Open     High  ...  Adj Close      Volume  Day_Perc_Change\n",
              "1 2018-10-22  7486.74  7520.54  ...    7468.63  2282400000         0.263122\n",
              "2 2018-10-23  7328.55  7472.58  ...    7437.54  2735820000        -0.416274\n",
              "3 2018-10-24  7423.21  7435.69  ...    7108.40  2935550000        -4.425388\n",
              "4 2018-10-25  7197.49  7364.82  ...    7318.34  2741810000         2.953407\n",
              "5 2018-10-26  7125.18  7283.32  ...    7167.21  2964780000        -2.065086\n",
              "\n",
              "[5 rows x 8 columns]"
            ]
          },
          "metadata": {
            "tags": []
          },
          "execution_count": 82
        }
      ]
    },
    {
      "cell_type": "code",
      "metadata": {
        "id": "8mM5x5Kny7_4",
        "outputId": "680d6979-d0f5-4a09-ae31-780a1ffe35e1",
        "colab": {
          "base_uri": "https://localhost:8080/",
          "height": 195
        }
      },
      "source": [
        "def trend(x):\n",
        "  if x  > -0.5 and x <= 0.5:\n",
        "    return 'Slight or No Change'\n",
        "  elif x  > 0.5 and x <= 1:\n",
        "    return 'Slight Positive'\n",
        "  elif x  > -1 and x <= -0.5:\n",
        "    return 'Slight Negative'\n",
        "  elif x  > 1 and x <= 3:\n",
        "    return 'Positive'\n",
        "  elif x  > -3 and x <= -1:\n",
        "    return 'Negative'\n",
        "  elif x  > 3 and x <= 7:\n",
        "    return 'Among Top Gainers'\n",
        "  elif x  > -7 and x <= -3:\n",
        "    return 'Among Top Losers'\n",
        "  elif x  > 7:\n",
        "    return 'Bull run'\n",
        "  elif x <= -7:\n",
        "    return 'Bear drop'\n",
        "\n",
        "Nasdaq_df[\"Trend\"]= np.zeros(Nasdaq_df[\"Day_Perc_Change\"].count())\n",
        "Nasdaq_df['Trend']= Nasdaq_df['Day_Perc_Change'].apply(lambda x:trend(x))\n",
        "Nasdaq_df.head()"
      ],
      "execution_count": 83,
      "outputs": [
        {
          "output_type": "execute_result",
          "data": {
            "text/html": [
              "<div>\n",
              "<style scoped>\n",
              "    .dataframe tbody tr th:only-of-type {\n",
              "        vertical-align: middle;\n",
              "    }\n",
              "\n",
              "    .dataframe tbody tr th {\n",
              "        vertical-align: top;\n",
              "    }\n",
              "\n",
              "    .dataframe thead th {\n",
              "        text-align: right;\n",
              "    }\n",
              "</style>\n",
              "<table border=\"1\" class=\"dataframe\">\n",
              "  <thead>\n",
              "    <tr style=\"text-align: right;\">\n",
              "      <th></th>\n",
              "      <th>Date</th>\n",
              "      <th>Open</th>\n",
              "      <th>High</th>\n",
              "      <th>Low</th>\n",
              "      <th>Close</th>\n",
              "      <th>Adj Close</th>\n",
              "      <th>Volume</th>\n",
              "      <th>Day_Perc_Change</th>\n",
              "      <th>Trend</th>\n",
              "    </tr>\n",
              "  </thead>\n",
              "  <tbody>\n",
              "    <tr>\n",
              "      <th>1</th>\n",
              "      <td>2018-10-22</td>\n",
              "      <td>7486.74</td>\n",
              "      <td>7520.54</td>\n",
              "      <td>7424.74</td>\n",
              "      <td>7468.63</td>\n",
              "      <td>7468.63</td>\n",
              "      <td>2282400000</td>\n",
              "      <td>0.263122</td>\n",
              "      <td>Slight or No Change</td>\n",
              "    </tr>\n",
              "    <tr>\n",
              "      <th>2</th>\n",
              "      <td>2018-10-23</td>\n",
              "      <td>7328.55</td>\n",
              "      <td>7472.58</td>\n",
              "      <td>7260.13</td>\n",
              "      <td>7437.54</td>\n",
              "      <td>7437.54</td>\n",
              "      <td>2735820000</td>\n",
              "      <td>-0.416274</td>\n",
              "      <td>Slight or No Change</td>\n",
              "    </tr>\n",
              "    <tr>\n",
              "      <th>3</th>\n",
              "      <td>2018-10-24</td>\n",
              "      <td>7423.21</td>\n",
              "      <td>7435.69</td>\n",
              "      <td>7099.00</td>\n",
              "      <td>7108.40</td>\n",
              "      <td>7108.40</td>\n",
              "      <td>2935550000</td>\n",
              "      <td>-4.425388</td>\n",
              "      <td>Among Top Losers</td>\n",
              "    </tr>\n",
              "    <tr>\n",
              "      <th>4</th>\n",
              "      <td>2018-10-25</td>\n",
              "      <td>7197.49</td>\n",
              "      <td>7364.82</td>\n",
              "      <td>7178.54</td>\n",
              "      <td>7318.34</td>\n",
              "      <td>7318.34</td>\n",
              "      <td>2741810000</td>\n",
              "      <td>2.953407</td>\n",
              "      <td>Positive</td>\n",
              "    </tr>\n",
              "    <tr>\n",
              "      <th>5</th>\n",
              "      <td>2018-10-26</td>\n",
              "      <td>7125.18</td>\n",
              "      <td>7283.32</td>\n",
              "      <td>7057.00</td>\n",
              "      <td>7167.21</td>\n",
              "      <td>7167.21</td>\n",
              "      <td>2964780000</td>\n",
              "      <td>-2.065086</td>\n",
              "      <td>Negative</td>\n",
              "    </tr>\n",
              "  </tbody>\n",
              "</table>\n",
              "</div>"
            ],
            "text/plain": [
              "        Date     Open  ...  Day_Perc_Change                Trend\n",
              "1 2018-10-22  7486.74  ...         0.263122  Slight or No Change\n",
              "2 2018-10-23  7328.55  ...        -0.416274  Slight or No Change\n",
              "3 2018-10-24  7423.21  ...        -4.425388     Among Top Losers\n",
              "4 2018-10-25  7197.49  ...         2.953407             Positive\n",
              "5 2018-10-26  7125.18  ...        -2.065086             Negative\n",
              "\n",
              "[5 rows x 9 columns]"
            ]
          },
          "metadata": {
            "tags": []
          },
          "execution_count": 83
        }
      ]
    },
    {
      "cell_type": "code",
      "metadata": {
        "id": "mkfTw3OD0VV1",
        "outputId": "80d75529-bb3c-4002-caae-acceef5f0100",
        "colab": {
          "base_uri": "https://localhost:8080/"
        }
      },
      "source": [
        "start_date = \"2019-1-1\"\n",
        "end_date = \"2019-12-31\"\n",
        "\n",
        "after_start_date = Nasdaq_df[\"Date\"] >= start_date\n",
        "before_end_date = Nasdaq_df[\"Date\"] <= end_date\n",
        "between_two_dates = after_start_date & before_end_date\n",
        "filtered_dates = Nasdaq_df.loc[between_two_dates]\n",
        "\n",
        "print(filtered_dates)"
      ],
      "execution_count": 84,
      "outputs": [
        {
          "output_type": "stream",
          "text": [
            "          Date     Open  ...  Day_Perc_Change                Trend\n",
            "49  2019-01-02  6506.91  ...         0.462075  Slight or No Change\n",
            "50  2019-01-03  6584.77  ...        -3.036931     Among Top Losers\n",
            "51  2019-01-04  6567.14  ...         4.260231    Among Top Gainers\n",
            "52  2019-01-07  6757.53  ...         1.255554             Positive\n",
            "53  2019-01-08  6893.44  ...         1.077604             Positive\n",
            "..         ...      ...  ...              ...                  ...\n",
            "296 2019-12-24  8955.01  ...         0.080821  Slight or No Change\n",
            "297 2019-12-26  8970.21  ...         0.776398      Slight Positive\n",
            "298 2019-12-27  9049.47  ...        -0.174787  Slight or No Change\n",
            "299 2019-12-30  9004.45  ...        -0.673172      Slight Negative\n",
            "300 2019-12-31  8918.74  ...         0.297452  Slight or No Change\n",
            "\n",
            "[252 rows x 9 columns]\n"
          ],
          "name": "stdout"
        }
      ]
    },
    {
      "cell_type": "code",
      "metadata": {
        "id": "clJspDB60VYl",
        "outputId": "57613721-34fa-467b-c083-f3e9bd0f0bcd",
        "colab": {
          "base_uri": "https://localhost:8080/",
          "height": 393
        }
      },
      "source": [
        "Nasdaq_pie_data = Nasdaq_df.groupby('Trend')\n",
        "pie_label = sorted([i for i in Nasdaq_df.loc[:, 'Trend'].unique()])\n",
        "plt.pie(Nasdaq_pie_data['Trend'].count(), labels = pie_label, \n",
        "        autopct = '%1.1f%%', radius = 2)\n",
        "\n",
        "plt.show()"
      ],
      "execution_count": 85,
      "outputs": [
        {
          "output_type": "display_data",
          "data": {
            "image/png": "[encoded data removed]",
            "text/plain": [
              "<Figure size 432x288 with 1 Axes>"
            ]
          },
          "metadata": {
            "tags": []
          }
        }
      ]
    },
    {
      "cell_type": "code",
      "metadata": {
        "id": "DJ3zmSV-q6D4",
        "outputId": "43891465-aa59-4109-afd8-b481e98c74f6",
        "colab": {
          "base_uri": "https://localhost:8080/",
          "height": 195
        }
      },
      "source": [
        "#NIKKEI\n",
        "#Read Datasaet Nikkei\n",
        "Nikkei_df = pd.read_csv('Nikkei.csv')\n",
        "Nikkei_df.head()"
      ],
      "execution_count": 86,
      "outputs": [
        {
          "output_type": "execute_result",
          "data": {
            "text/html": [
              "<div>\n",
              "<style scoped>\n",
              "    .dataframe tbody tr th:only-of-type {\n",
              "        vertical-align: middle;\n",
              "    }\n",
              "\n",
              "    .dataframe tbody tr th {\n",
              "        vertical-align: top;\n",
              "    }\n",
              "\n",
              "    .dataframe thead th {\n",
              "        text-align: right;\n",
              "    }\n",
              "</style>\n",
              "<table border=\"1\" class=\"dataframe\">\n",
              "  <thead>\n",
              "    <tr style=\"text-align: right;\">\n",
              "      <th></th>\n",
              "      <th>Date</th>\n",
              "      <th>Open</th>\n",
              "      <th>High</th>\n",
              "      <th>Low</th>\n",
              "      <th>Close</th>\n",
              "      <th>Adj Close</th>\n",
              "      <th>Volume</th>\n",
              "    </tr>\n",
              "  </thead>\n",
              "  <tbody>\n",
              "    <tr>\n",
              "      <th>0</th>\n",
              "      <td>2018-10-19</td>\n",
              "      <td>22342.000000</td>\n",
              "      <td>22551.669922</td>\n",
              "      <td>22212.570313</td>\n",
              "      <td>22532.080078</td>\n",
              "      <td>22532.080078</td>\n",
              "      <td>67400.0</td>\n",
              "    </tr>\n",
              "    <tr>\n",
              "      <th>1</th>\n",
              "      <td>2018-10-22</td>\n",
              "      <td>22374.210938</td>\n",
              "      <td>22672.250000</td>\n",
              "      <td>22271.589844</td>\n",
              "      <td>22614.820313</td>\n",
              "      <td>22614.820313</td>\n",
              "      <td>63000.0</td>\n",
              "    </tr>\n",
              "    <tr>\n",
              "      <th>2</th>\n",
              "      <td>2018-10-23</td>\n",
              "      <td>22404.140625</td>\n",
              "      <td>22410.150391</td>\n",
              "      <td>21993.070313</td>\n",
              "      <td>22010.779297</td>\n",
              "      <td>22010.779297</td>\n",
              "      <td>80200.0</td>\n",
              "    </tr>\n",
              "    <tr>\n",
              "      <th>3</th>\n",
              "      <td>2018-10-24</td>\n",
              "      <td>22167.759766</td>\n",
              "      <td>22207.089844</td>\n",
              "      <td>21911.419922</td>\n",
              "      <td>22091.179688</td>\n",
              "      <td>22091.179688</td>\n",
              "      <td>83900.0</td>\n",
              "    </tr>\n",
              "    <tr>\n",
              "      <th>4</th>\n",
              "      <td>2018-10-25</td>\n",
              "      <td>21676.830078</td>\n",
              "      <td>21703.210938</td>\n",
              "      <td>21204.400391</td>\n",
              "      <td>21268.730469</td>\n",
              "      <td>21268.730469</td>\n",
              "      <td>93600.0</td>\n",
              "    </tr>\n",
              "  </tbody>\n",
              "</table>\n",
              "</div>"
            ],
            "text/plain": [
              "         Date          Open          High  ...         Close     Adj Close   Volume\n",
              "0  2018-10-19  22342.000000  22551.669922  ...  22532.080078  22532.080078  67400.0\n",
              "1  2018-10-22  22374.210938  22672.250000  ...  22614.820313  22614.820313  63000.0\n",
              "2  2018-10-23  22404.140625  22410.150391  ...  22010.779297  22010.779297  80200.0\n",
              "3  2018-10-24  22167.759766  22207.089844  ...  22091.179688  22091.179688  83900.0\n",
              "4  2018-10-25  21676.830078  21703.210938  ...  21268.730469  21268.730469  93600.0\n",
              "\n",
              "[5 rows x 7 columns]"
            ]
          },
          "metadata": {
            "tags": []
          },
          "execution_count": 86
        }
      ]
    },
    {
      "cell_type": "code",
      "metadata": {
        "id": "iSGGX-6u5-ZS",
        "outputId": "2a137f6d-753d-4ef7-f08f-a6ba50a3f655",
        "colab": {
          "base_uri": "https://localhost:8080/",
          "height": 106
        }
      },
      "source": [
        "Nikkei_df = Nikkei_df.round(2)\n",
        "Nikkei_df.head(2)"
      ],
      "execution_count": 87,
      "outputs": [
        {
          "output_type": "execute_result",
          "data": {
            "text/html": [
              "<div>\n",
              "<style scoped>\n",
              "    .dataframe tbody tr th:only-of-type {\n",
              "        vertical-align: middle;\n",
              "    }\n",
              "\n",
              "    .dataframe tbody tr th {\n",
              "        vertical-align: top;\n",
              "    }\n",
              "\n",
              "    .dataframe thead th {\n",
              "        text-align: right;\n",
              "    }\n",
              "</style>\n",
              "<table border=\"1\" class=\"dataframe\">\n",
              "  <thead>\n",
              "    <tr style=\"text-align: right;\">\n",
              "      <th></th>\n",
              "      <th>Date</th>\n",
              "      <th>Open</th>\n",
              "      <th>High</th>\n",
              "      <th>Low</th>\n",
              "      <th>Close</th>\n",
              "      <th>Adj Close</th>\n",
              "      <th>Volume</th>\n",
              "    </tr>\n",
              "  </thead>\n",
              "  <tbody>\n",
              "    <tr>\n",
              "      <th>0</th>\n",
              "      <td>2018-10-19</td>\n",
              "      <td>22342.00</td>\n",
              "      <td>22551.67</td>\n",
              "      <td>22212.57</td>\n",
              "      <td>22532.08</td>\n",
              "      <td>22532.08</td>\n",
              "      <td>67400.0</td>\n",
              "    </tr>\n",
              "    <tr>\n",
              "      <th>1</th>\n",
              "      <td>2018-10-22</td>\n",
              "      <td>22374.21</td>\n",
              "      <td>22672.25</td>\n",
              "      <td>22271.59</td>\n",
              "      <td>22614.82</td>\n",
              "      <td>22614.82</td>\n",
              "      <td>63000.0</td>\n",
              "    </tr>\n",
              "  </tbody>\n",
              "</table>\n",
              "</div>"
            ],
            "text/plain": [
              "         Date      Open      High       Low     Close  Adj Close   Volume\n",
              "0  2018-10-19  22342.00  22551.67  22212.57  22532.08   22532.08  67400.0\n",
              "1  2018-10-22  22374.21  22672.25  22271.59  22614.82   22614.82  63000.0"
            ]
          },
          "metadata": {
            "tags": []
          },
          "execution_count": 87
        }
      ]
    },
    {
      "cell_type": "code",
      "metadata": {
        "id": "2_Ea0FUe5-b5",
        "outputId": "5bba2f8e-3edc-4a40-da46-2918be54e54f",
        "colab": {
          "base_uri": "https://localhost:8080/"
        }
      },
      "source": [
        "Nikkei_df.shape"
      ],
      "execution_count": 88,
      "outputs": [
        {
          "output_type": "execute_result",
          "data": {
            "text/plain": [
              "(486, 7)"
            ]
          },
          "metadata": {
            "tags": []
          },
          "execution_count": 88
        }
      ]
    },
    {
      "cell_type": "code",
      "metadata": {
        "id": "VmVgzx7QvdNg",
        "outputId": "01dde535-61e8-4661-f490-7894b092f162",
        "colab": {
          "base_uri": "https://localhost:8080/"
        }
      },
      "source": [
        "Nikkei_df.isnull().sum()"
      ],
      "execution_count": 89,
      "outputs": [
        {
          "output_type": "execute_result",
          "data": {
            "text/plain": [
              "Date         0\n",
              "Open         3\n",
              "High         3\n",
              "Low          3\n",
              "Close        3\n",
              "Adj Close    3\n",
              "Volume       3\n",
              "dtype: int64"
            ]
          },
          "metadata": {
            "tags": []
          },
          "execution_count": 89
        }
      ]
    },
    {
      "cell_type": "code",
      "metadata": {
        "id": "QsmgOpa06hXl"
      },
      "source": [
        "Nikkei_df.dropna(inplace = True, axis = 0)"
      ],
      "execution_count": 90,
      "outputs": []
    },
    {
      "cell_type": "code",
      "metadata": {
        "id": "c2YNk8UM6hZ5",
        "outputId": "0035785f-8fe1-41b2-877b-0c86b96d8d40",
        "colab": {
          "base_uri": "https://localhost:8080/"
        }
      },
      "source": [
        "Nikkei_df.isnull().sum()"
      ],
      "execution_count": 91,
      "outputs": [
        {
          "output_type": "execute_result",
          "data": {
            "text/plain": [
              "Date         0\n",
              "Open         0\n",
              "High         0\n",
              "Low          0\n",
              "Close        0\n",
              "Adj Close    0\n",
              "Volume       0\n",
              "dtype: int64"
            ]
          },
          "metadata": {
            "tags": []
          },
          "execution_count": 91
        }
      ]
    },
    {
      "cell_type": "code",
      "metadata": {
        "id": "H0HlaUg86hcY",
        "outputId": "e29751e9-ab54-4b7e-f33a-353b260cebae",
        "colab": {
          "base_uri": "https://localhost:8080/"
        }
      },
      "source": [
        "Nikkei_df.dtypes"
      ],
      "execution_count": 92,
      "outputs": [
        {
          "output_type": "execute_result",
          "data": {
            "text/plain": [
              "Date          object\n",
              "Open         float64\n",
              "High         float64\n",
              "Low          float64\n",
              "Close        float64\n",
              "Adj Close    float64\n",
              "Volume       float64\n",
              "dtype: object"
            ]
          },
          "metadata": {
            "tags": []
          },
          "execution_count": 92
        }
      ]
    },
    {
      "cell_type": "code",
      "metadata": {
        "id": "CUsY5kIN6hep",
        "outputId": "41ae3d9b-338e-4ca7-8420-42d900f8252d",
        "colab": {
          "base_uri": "https://localhost:8080/",
          "height": 106
        }
      },
      "source": [
        "Nikkei_df['Date'] = pd.to_datetime(Nikkei_df['Date'])\n",
        "Nikkei_df.head(2)"
      ],
      "execution_count": 93,
      "outputs": [
        {
          "output_type": "execute_result",
          "data": {
            "text/html": [
              "<div>\n",
              "<style scoped>\n",
              "    .dataframe tbody tr th:only-of-type {\n",
              "        vertical-align: middle;\n",
              "    }\n",
              "\n",
              "    .dataframe tbody tr th {\n",
              "        vertical-align: top;\n",
              "    }\n",
              "\n",
              "    .dataframe thead th {\n",
              "        text-align: right;\n",
              "    }\n",
              "</style>\n",
              "<table border=\"1\" class=\"dataframe\">\n",
              "  <thead>\n",
              "    <tr style=\"text-align: right;\">\n",
              "      <th></th>\n",
              "      <th>Date</th>\n",
              "      <th>Open</th>\n",
              "      <th>High</th>\n",
              "      <th>Low</th>\n",
              "      <th>Close</th>\n",
              "      <th>Adj Close</th>\n",
              "      <th>Volume</th>\n",
              "    </tr>\n",
              "  </thead>\n",
              "  <tbody>\n",
              "    <tr>\n",
              "      <th>0</th>\n",
              "      <td>2018-10-19</td>\n",
              "      <td>22342.00</td>\n",
              "      <td>22551.67</td>\n",
              "      <td>22212.57</td>\n",
              "      <td>22532.08</td>\n",
              "      <td>22532.08</td>\n",
              "      <td>67400.0</td>\n",
              "    </tr>\n",
              "    <tr>\n",
              "      <th>1</th>\n",
              "      <td>2018-10-22</td>\n",
              "      <td>22374.21</td>\n",
              "      <td>22672.25</td>\n",
              "      <td>22271.59</td>\n",
              "      <td>22614.82</td>\n",
              "      <td>22614.82</td>\n",
              "      <td>63000.0</td>\n",
              "    </tr>\n",
              "  </tbody>\n",
              "</table>\n",
              "</div>"
            ],
            "text/plain": [
              "        Date      Open      High       Low     Close  Adj Close   Volume\n",
              "0 2018-10-19  22342.00  22551.67  22212.57  22532.08   22532.08  67400.0\n",
              "1 2018-10-22  22374.21  22672.25  22271.59  22614.82   22614.82  63000.0"
            ]
          },
          "metadata": {
            "tags": []
          },
          "execution_count": 93
        }
      ]
    },
    {
      "cell_type": "code",
      "metadata": {
        "id": "_At3MKUH6hg3",
        "outputId": "65277329-2f70-436e-e6b7-a276d2f8e198",
        "colab": {
          "base_uri": "https://localhost:8080/"
        }
      },
      "source": [
        "type(Nikkei_df.loc[0,'Date'])"
      ],
      "execution_count": 94,
      "outputs": [
        {
          "output_type": "execute_result",
          "data": {
            "text/plain": [
              "pandas._libs.tslibs.timestamps.Timestamp"
            ]
          },
          "metadata": {
            "tags": []
          },
          "execution_count": 94
        }
      ]
    },
    {
      "cell_type": "code",
      "metadata": {
        "id": "RYeUL4DX6hjA",
        "outputId": "f976f723-b10c-4547-8e10-b5c9457b4917",
        "colab": {
          "base_uri": "https://localhost:8080/"
        }
      },
      "source": [
        "Nikkei_df['Date'].max() - Nikkei_df['Date'].min()"
      ],
      "execution_count": 95,
      "outputs": [
        {
          "output_type": "execute_result",
          "data": {
            "text/plain": [
              "Timedelta('731 days 00:00:00')"
            ]
          },
          "metadata": {
            "tags": []
          },
          "execution_count": 95
        }
      ]
    },
    {
      "cell_type": "code",
      "metadata": {
        "id": "ERfveqwD66a5",
        "outputId": "69c94a91-1c9d-4d4c-92ba-2c0c561e1152",
        "colab": {
          "base_uri": "https://localhost:8080/",
          "height": 284
        }
      },
      "source": [
        "Nikkei_df.iloc[-90:].describe().astype(int)"
      ],
      "execution_count": 96,
      "outputs": [
        {
          "output_type": "execute_result",
          "data": {
            "text/html": [
              "<div>\n",
              "<style scoped>\n",
              "    .dataframe tbody tr th:only-of-type {\n",
              "        vertical-align: middle;\n",
              "    }\n",
              "\n",
              "    .dataframe tbody tr th {\n",
              "        vertical-align: top;\n",
              "    }\n",
              "\n",
              "    .dataframe thead th {\n",
              "        text-align: right;\n",
              "    }\n",
              "</style>\n",
              "<table border=\"1\" class=\"dataframe\">\n",
              "  <thead>\n",
              "    <tr style=\"text-align: right;\">\n",
              "      <th></th>\n",
              "      <th>Open</th>\n",
              "      <th>High</th>\n",
              "      <th>Low</th>\n",
              "      <th>Close</th>\n",
              "      <th>Adj Close</th>\n",
              "      <th>Volume</th>\n",
              "    </tr>\n",
              "  </thead>\n",
              "  <tbody>\n",
              "    <tr>\n",
              "      <th>count</th>\n",
              "      <td>90</td>\n",
              "      <td>90</td>\n",
              "      <td>90</td>\n",
              "      <td>90</td>\n",
              "      <td>90</td>\n",
              "      <td>90</td>\n",
              "    </tr>\n",
              "    <tr>\n",
              "      <th>mean</th>\n",
              "      <td>22906</td>\n",
              "      <td>23016</td>\n",
              "      <td>22787</td>\n",
              "      <td>22903</td>\n",
              "      <td>22903</td>\n",
              "      <td>66762</td>\n",
              "    </tr>\n",
              "    <tr>\n",
              "      <th>std</th>\n",
              "      <td>457</td>\n",
              "      <td>433</td>\n",
              "      <td>498</td>\n",
              "      <td>482</td>\n",
              "      <td>482</td>\n",
              "      <td>20126</td>\n",
              "    </tr>\n",
              "    <tr>\n",
              "      <th>min</th>\n",
              "      <td>21912</td>\n",
              "      <td>22214</td>\n",
              "      <td>21529</td>\n",
              "      <td>21530</td>\n",
              "      <td>21530</td>\n",
              "      <td>0</td>\n",
              "    </tr>\n",
              "    <tr>\n",
              "      <th>25%</th>\n",
              "      <td>22498</td>\n",
              "      <td>22633</td>\n",
              "      <td>22369</td>\n",
              "      <td>22518</td>\n",
              "      <td>22518</td>\n",
              "      <td>56150</td>\n",
              "    </tr>\n",
              "    <tr>\n",
              "      <th>50%</th>\n",
              "      <td>22982</td>\n",
              "      <td>23103</td>\n",
              "      <td>22870</td>\n",
              "      <td>22965</td>\n",
              "      <td>22965</td>\n",
              "      <td>66000</td>\n",
              "    </tr>\n",
              "    <tr>\n",
              "      <th>75%</th>\n",
              "      <td>23260</td>\n",
              "      <td>23374</td>\n",
              "      <td>23183</td>\n",
              "      <td>23290</td>\n",
              "      <td>23290</td>\n",
              "      <td>77600</td>\n",
              "    </tr>\n",
              "    <tr>\n",
              "      <th>max</th>\n",
              "      <td>23713</td>\n",
              "      <td>23725</td>\n",
              "      <td>23552</td>\n",
              "      <td>23671</td>\n",
              "      <td>23671</td>\n",
              "      <td>120500</td>\n",
              "    </tr>\n",
              "  </tbody>\n",
              "</table>\n",
              "</div>"
            ],
            "text/plain": [
              "        Open   High    Low  Close  Adj Close  Volume\n",
              "count     90     90     90     90         90      90\n",
              "mean   22906  23016  22787  22903      22903   66762\n",
              "std      457    433    498    482        482   20126\n",
              "min    21912  22214  21529  21530      21530       0\n",
              "25%    22498  22633  22369  22518      22518   56150\n",
              "50%    22982  23103  22870  22965      22965   66000\n",
              "75%    23260  23374  23183  23290      23290   77600\n",
              "max    23713  23725  23552  23671      23671  120500"
            ]
          },
          "metadata": {
            "tags": []
          },
          "execution_count": 96
        }
      ]
    },
    {
      "cell_type": "code",
      "metadata": {
        "id": "A0KJq89g66do",
        "outputId": "2dcb2407-26b0-47f8-a79d-f3fe9b677628",
        "colab": {
          "base_uri": "https://localhost:8080/",
          "height": 195
        }
      },
      "source": [
        "Nikkei_df['Day_Perc_Change'] = Nikkei_df['Adj Close'].pct_change()*100\n",
        "Nikkei_df.head()"
      ],
      "execution_count": 97,
      "outputs": [
        {
          "output_type": "execute_result",
          "data": {
            "text/html": [
              "<div>\n",
              "<style scoped>\n",
              "    .dataframe tbody tr th:only-of-type {\n",
              "        vertical-align: middle;\n",
              "    }\n",
              "\n",
              "    .dataframe tbody tr th {\n",
              "        vertical-align: top;\n",
              "    }\n",
              "\n",
              "    .dataframe thead th {\n",
              "        text-align: right;\n",
              "    }\n",
              "</style>\n",
              "<table border=\"1\" class=\"dataframe\">\n",
              "  <thead>\n",
              "    <tr style=\"text-align: right;\">\n",
              "      <th></th>\n",
              "      <th>Date</th>\n",
              "      <th>Open</th>\n",
              "      <th>High</th>\n",
              "      <th>Low</th>\n",
              "      <th>Close</th>\n",
              "      <th>Adj Close</th>\n",
              "      <th>Volume</th>\n",
              "      <th>Day_Perc_Change</th>\n",
              "    </tr>\n",
              "  </thead>\n",
              "  <tbody>\n",
              "    <tr>\n",
              "      <th>0</th>\n",
              "      <td>2018-10-19</td>\n",
              "      <td>22342.00</td>\n",
              "      <td>22551.67</td>\n",
              "      <td>22212.57</td>\n",
              "      <td>22532.08</td>\n",
              "      <td>22532.08</td>\n",
              "      <td>67400.0</td>\n",
              "      <td>NaN</td>\n",
              "    </tr>\n",
              "    <tr>\n",
              "      <th>1</th>\n",
              "      <td>2018-10-22</td>\n",
              "      <td>22374.21</td>\n",
              "      <td>22672.25</td>\n",
              "      <td>22271.59</td>\n",
              "      <td>22614.82</td>\n",
              "      <td>22614.82</td>\n",
              "      <td>63000.0</td>\n",
              "      <td>0.367210</td>\n",
              "    </tr>\n",
              "    <tr>\n",
              "      <th>2</th>\n",
              "      <td>2018-10-23</td>\n",
              "      <td>22404.14</td>\n",
              "      <td>22410.15</td>\n",
              "      <td>21993.07</td>\n",
              "      <td>22010.78</td>\n",
              "      <td>22010.78</td>\n",
              "      <td>80200.0</td>\n",
              "      <td>-2.670992</td>\n",
              "    </tr>\n",
              "    <tr>\n",
              "      <th>3</th>\n",
              "      <td>2018-10-24</td>\n",
              "      <td>22167.76</td>\n",
              "      <td>22207.09</td>\n",
              "      <td>21911.42</td>\n",
              "      <td>22091.18</td>\n",
              "      <td>22091.18</td>\n",
              "      <td>83900.0</td>\n",
              "      <td>0.365276</td>\n",
              "    </tr>\n",
              "    <tr>\n",
              "      <th>4</th>\n",
              "      <td>2018-10-25</td>\n",
              "      <td>21676.83</td>\n",
              "      <td>21703.21</td>\n",
              "      <td>21204.40</td>\n",
              "      <td>21268.73</td>\n",
              "      <td>21268.73</td>\n",
              "      <td>93600.0</td>\n",
              "      <td>-3.722979</td>\n",
              "    </tr>\n",
              "  </tbody>\n",
              "</table>\n",
              "</div>"
            ],
            "text/plain": [
              "        Date      Open      High  ...  Adj Close   Volume  Day_Perc_Change\n",
              "0 2018-10-19  22342.00  22551.67  ...   22532.08  67400.0              NaN\n",
              "1 2018-10-22  22374.21  22672.25  ...   22614.82  63000.0         0.367210\n",
              "2 2018-10-23  22404.14  22410.15  ...   22010.78  80200.0        -2.670992\n",
              "3 2018-10-24  22167.76  22207.09  ...   22091.18  83900.0         0.365276\n",
              "4 2018-10-25  21676.83  21703.21  ...   21268.73  93600.0        -3.722979\n",
              "\n",
              "[5 rows x 8 columns]"
            ]
          },
          "metadata": {
            "tags": []
          },
          "execution_count": 97
        }
      ]
    },
    {
      "cell_type": "code",
      "metadata": {
        "id": "P7oBZL8J7Qjl",
        "outputId": "e2b22f5a-e2b2-47a4-9b0c-b905b3ab91b5",
        "colab": {
          "base_uri": "https://localhost:8080/",
          "height": 195
        }
      },
      "source": [
        "Nikkei_df.dropna(inplace = True, axis = 0)\n",
        "Nikkei_df.head()"
      ],
      "execution_count": 98,
      "outputs": [
        {
          "output_type": "execute_result",
          "data": {
            "text/html": [
              "<div>\n",
              "<style scoped>\n",
              "    .dataframe tbody tr th:only-of-type {\n",
              "        vertical-align: middle;\n",
              "    }\n",
              "\n",
              "    .dataframe tbody tr th {\n",
              "        vertical-align: top;\n",
              "    }\n",
              "\n",
              "    .dataframe thead th {\n",
              "        text-align: right;\n",
              "    }\n",
              "</style>\n",
              "<table border=\"1\" class=\"dataframe\">\n",
              "  <thead>\n",
              "    <tr style=\"text-align: right;\">\n",
              "      <th></th>\n",
              "      <th>Date</th>\n",
              "      <th>Open</th>\n",
              "      <th>High</th>\n",
              "      <th>Low</th>\n",
              "      <th>Close</th>\n",
              "      <th>Adj Close</th>\n",
              "      <th>Volume</th>\n",
              "      <th>Day_Perc_Change</th>\n",
              "    </tr>\n",
              "  </thead>\n",
              "  <tbody>\n",
              "    <tr>\n",
              "      <th>1</th>\n",
              "      <td>2018-10-22</td>\n",
              "      <td>22374.21</td>\n",
              "      <td>22672.25</td>\n",
              "      <td>22271.59</td>\n",
              "      <td>22614.82</td>\n",
              "      <td>22614.82</td>\n",
              "      <td>63000.0</td>\n",
              "      <td>0.367210</td>\n",
              "    </tr>\n",
              "    <tr>\n",
              "      <th>2</th>\n",
              "      <td>2018-10-23</td>\n",
              "      <td>22404.14</td>\n",
              "      <td>22410.15</td>\n",
              "      <td>21993.07</td>\n",
              "      <td>22010.78</td>\n",
              "      <td>22010.78</td>\n",
              "      <td>80200.0</td>\n",
              "      <td>-2.670992</td>\n",
              "    </tr>\n",
              "    <tr>\n",
              "      <th>3</th>\n",
              "      <td>2018-10-24</td>\n",
              "      <td>22167.76</td>\n",
              "      <td>22207.09</td>\n",
              "      <td>21911.42</td>\n",
              "      <td>22091.18</td>\n",
              "      <td>22091.18</td>\n",
              "      <td>83900.0</td>\n",
              "      <td>0.365276</td>\n",
              "    </tr>\n",
              "    <tr>\n",
              "      <th>4</th>\n",
              "      <td>2018-10-25</td>\n",
              "      <td>21676.83</td>\n",
              "      <td>21703.21</td>\n",
              "      <td>21204.40</td>\n",
              "      <td>21268.73</td>\n",
              "      <td>21268.73</td>\n",
              "      <td>93600.0</td>\n",
              "      <td>-3.722979</td>\n",
              "    </tr>\n",
              "    <tr>\n",
              "      <th>5</th>\n",
              "      <td>2018-10-26</td>\n",
              "      <td>21440.84</td>\n",
              "      <td>21476.66</td>\n",
              "      <td>20971.93</td>\n",
              "      <td>21184.60</td>\n",
              "      <td>21184.60</td>\n",
              "      <td>92900.0</td>\n",
              "      <td>-0.395557</td>\n",
              "    </tr>\n",
              "  </tbody>\n",
              "</table>\n",
              "</div>"
            ],
            "text/plain": [
              "        Date      Open      High  ...  Adj Close   Volume  Day_Perc_Change\n",
              "1 2018-10-22  22374.21  22672.25  ...   22614.82  63000.0         0.367210\n",
              "2 2018-10-23  22404.14  22410.15  ...   22010.78  80200.0        -2.670992\n",
              "3 2018-10-24  22167.76  22207.09  ...   22091.18  83900.0         0.365276\n",
              "4 2018-10-25  21676.83  21703.21  ...   21268.73  93600.0        -3.722979\n",
              "5 2018-10-26  21440.84  21476.66  ...   21184.60  92900.0        -0.395557\n",
              "\n",
              "[5 rows x 8 columns]"
            ]
          },
          "metadata": {
            "tags": []
          },
          "execution_count": 98
        }
      ]
    },
    {
      "cell_type": "code",
      "metadata": {
        "id": "NAC6TzjG7Qvp",
        "outputId": "1255ca64-a2c6-4710-896e-84b4d94da592",
        "colab": {
          "base_uri": "https://localhost:8080/",
          "height": 195
        }
      },
      "source": [
        "Nikkei_df['Trend']= np.zeros(Nikkei_df[\"Day_Perc_Change\"].count())\n",
        "Nikkei_df['Trend']= Nikkei_df['Day_Perc_Change'].apply(lambda x:trend(x))\n",
        "Nikkei_df.head()"
      ],
      "execution_count": 99,
      "outputs": [
        {
          "output_type": "execute_result",
          "data": {
            "text/html": [
              "<div>\n",
              "<style scoped>\n",
              "    .dataframe tbody tr th:only-of-type {\n",
              "        vertical-align: middle;\n",
              "    }\n",
              "\n",
              "    .dataframe tbody tr th {\n",
              "        vertical-align: top;\n",
              "    }\n",
              "\n",
              "    .dataframe thead th {\n",
              "        text-align: right;\n",
              "    }\n",
              "</style>\n",
              "<table border=\"1\" class=\"dataframe\">\n",
              "  <thead>\n",
              "    <tr style=\"text-align: right;\">\n",
              "      <th></th>\n",
              "      <th>Date</th>\n",
              "      <th>Open</th>\n",
              "      <th>High</th>\n",
              "      <th>Low</th>\n",
              "      <th>Close</th>\n",
              "      <th>Adj Close</th>\n",
              "      <th>Volume</th>\n",
              "      <th>Day_Perc_Change</th>\n",
              "      <th>Trend</th>\n",
              "    </tr>\n",
              "  </thead>\n",
              "  <tbody>\n",
              "    <tr>\n",
              "      <th>1</th>\n",
              "      <td>2018-10-22</td>\n",
              "      <td>22374.21</td>\n",
              "      <td>22672.25</td>\n",
              "      <td>22271.59</td>\n",
              "      <td>22614.82</td>\n",
              "      <td>22614.82</td>\n",
              "      <td>63000.0</td>\n",
              "      <td>0.367210</td>\n",
              "      <td>Slight or No Change</td>\n",
              "    </tr>\n",
              "    <tr>\n",
              "      <th>2</th>\n",
              "      <td>2018-10-23</td>\n",
              "      <td>22404.14</td>\n",
              "      <td>22410.15</td>\n",
              "      <td>21993.07</td>\n",
              "      <td>22010.78</td>\n",
              "      <td>22010.78</td>\n",
              "      <td>80200.0</td>\n",
              "      <td>-2.670992</td>\n",
              "      <td>Negative</td>\n",
              "    </tr>\n",
              "    <tr>\n",
              "      <th>3</th>\n",
              "      <td>2018-10-24</td>\n",
              "      <td>22167.76</td>\n",
              "      <td>22207.09</td>\n",
              "      <td>21911.42</td>\n",
              "      <td>22091.18</td>\n",
              "      <td>22091.18</td>\n",
              "      <td>83900.0</td>\n",
              "      <td>0.365276</td>\n",
              "      <td>Slight or No Change</td>\n",
              "    </tr>\n",
              "    <tr>\n",
              "      <th>4</th>\n",
              "      <td>2018-10-25</td>\n",
              "      <td>21676.83</td>\n",
              "      <td>21703.21</td>\n",
              "      <td>21204.40</td>\n",
              "      <td>21268.73</td>\n",
              "      <td>21268.73</td>\n",
              "      <td>93600.0</td>\n",
              "      <td>-3.722979</td>\n",
              "      <td>Among Top Losers</td>\n",
              "    </tr>\n",
              "    <tr>\n",
              "      <th>5</th>\n",
              "      <td>2018-10-26</td>\n",
              "      <td>21440.84</td>\n",
              "      <td>21476.66</td>\n",
              "      <td>20971.93</td>\n",
              "      <td>21184.60</td>\n",
              "      <td>21184.60</td>\n",
              "      <td>92900.0</td>\n",
              "      <td>-0.395557</td>\n",
              "      <td>Slight or No Change</td>\n",
              "    </tr>\n",
              "  </tbody>\n",
              "</table>\n",
              "</div>"
            ],
            "text/plain": [
              "        Date      Open      High  ...   Volume  Day_Perc_Change                Trend\n",
              "1 2018-10-22  22374.21  22672.25  ...  63000.0         0.367210  Slight or No Change\n",
              "2 2018-10-23  22404.14  22410.15  ...  80200.0        -2.670992             Negative\n",
              "3 2018-10-24  22167.76  22207.09  ...  83900.0         0.365276  Slight or No Change\n",
              "4 2018-10-25  21676.83  21703.21  ...  93600.0        -3.722979     Among Top Losers\n",
              "5 2018-10-26  21440.84  21476.66  ...  92900.0        -0.395557  Slight or No Change\n",
              "\n",
              "[5 rows x 9 columns]"
            ]
          },
          "metadata": {
            "tags": []
          },
          "execution_count": 99
        }
      ]
    },
    {
      "cell_type": "code",
      "metadata": {
        "id": "PUK-TaOM7Q_h",
        "outputId": "ba3cd217-d38d-4775-eed8-567dc5dc5d34",
        "colab": {
          "base_uri": "https://localhost:8080/"
        }
      },
      "source": [
        "start_date = \"2019-1-1\"\n",
        "end_date = \"2019-12-31\"\n",
        "\n",
        "after_start_date = Nikkei_df[\"Date\"] >= start_date\n",
        "before_end_date = Nikkei_df[\"Date\"] <= end_date\n",
        "between_two_dates = after_start_date & before_end_date\n",
        "filtered_dates = Nikkei_df.loc[between_two_dates]\n",
        "\n",
        "print(filtered_dates)"
      ],
      "execution_count": 100,
      "outputs": [
        {
          "output_type": "stream",
          "text": [
            "          Date      Open  ...  Day_Perc_Change                Trend\n",
            "52  2019-01-04  19655.13  ...        -2.262379             Negative\n",
            "53  2019-01-07  19944.61  ...         2.438457             Positive\n",
            "54  2019-01-08  20224.67  ...         0.823745      Slight Positive\n",
            "55  2019-01-09  20366.30  ...         1.103839             Positive\n",
            "56  2019-01-10  20270.88  ...        -1.288781             Negative\n",
            "..         ...       ...  ...              ...                  ...\n",
            "288 2019-12-24  23839.18  ...         0.039755  Slight or No Change\n",
            "289 2019-12-25  23813.59  ...        -0.200205  Slight or No Change\n",
            "290 2019-12-26  23787.70  ...         0.597279      Slight Positive\n",
            "291 2019-12-27  23953.75  ...        -0.364474  Slight or No Change\n",
            "292 2019-12-30  23770.93  ...        -0.759720      Slight Negative\n",
            "\n",
            "[241 rows x 9 columns]\n"
          ],
          "name": "stdout"
        }
      ]
    },
    {
      "cell_type": "code",
      "metadata": {
        "id": "vaCloCnb66f4",
        "outputId": "95cdab7b-e649-42cc-c47f-80b8c20cee72",
        "colab": {
          "base_uri": "https://localhost:8080/",
          "height": 418
        }
      },
      "source": [
        "Nikkei_pie_data = Nikkei_df.groupby('Trend')\n",
        "pie_label = sorted([i for i in Nikkei_df.loc[:, 'Trend'].unique()])\n",
        "plt.pie(Nikkei_pie_data['Trend'].count(), labels = pie_label, \n",
        "        autopct = '%1.1f%%', radius = 2)\n",
        "\n",
        "plt.show()"
      ],
      "execution_count": 101,
      "outputs": [
        {
          "output_type": "display_data",
          "data": {
            "image/png": "[encoded data removed]",
            "text/plain": [
              "<Figure size 432x288 with 1 Axes>"
            ]
          },
          "metadata": {
            "tags": []
          }
        }
      ]
    },
    {
      "cell_type": "code",
      "metadata": {
        "id": "f3UrSlpPq6Pm",
        "outputId": "79b89b6e-d18e-4a22-83c2-ccf079af3833",
        "colab": {
          "base_uri": "https://localhost:8080/",
          "height": 195
        }
      },
      "source": [
        "#Hangseng\n",
        "#Read Dataset Hang_Seng\n",
        "HangSeng_df = pd.read_csv('Hang_Seng.csv')\n",
        "HangSeng_df.head()"
      ],
      "execution_count": 102,
      "outputs": [
        {
          "output_type": "execute_result",
          "data": {
            "text/html": [
              "<div>\n",
              "<style scoped>\n",
              "    .dataframe tbody tr th:only-of-type {\n",
              "        vertical-align: middle;\n",
              "    }\n",
              "\n",
              "    .dataframe tbody tr th {\n",
              "        vertical-align: top;\n",
              "    }\n",
              "\n",
              "    .dataframe thead th {\n",
              "        text-align: right;\n",
              "    }\n",
              "</style>\n",
              "<table border=\"1\" class=\"dataframe\">\n",
              "  <thead>\n",
              "    <tr style=\"text-align: right;\">\n",
              "      <th></th>\n",
              "      <th>Date</th>\n",
              "      <th>Open</th>\n",
              "      <th>High</th>\n",
              "      <th>Low</th>\n",
              "      <th>Close</th>\n",
              "      <th>Adj Close</th>\n",
              "      <th>Volume</th>\n",
              "    </tr>\n",
              "  </thead>\n",
              "  <tbody>\n",
              "    <tr>\n",
              "      <th>0</th>\n",
              "      <td>2018-10-19</td>\n",
              "      <td>25172.029297</td>\n",
              "      <td>25743.449219</td>\n",
              "      <td>25090.300781</td>\n",
              "      <td>25561.400391</td>\n",
              "      <td>25561.400391</td>\n",
              "      <td>2.037872e+09</td>\n",
              "    </tr>\n",
              "    <tr>\n",
              "      <th>1</th>\n",
              "      <td>2018-10-22</td>\n",
              "      <td>25668.330078</td>\n",
              "      <td>26234.859375</td>\n",
              "      <td>25668.330078</td>\n",
              "      <td>26153.150391</td>\n",
              "      <td>26153.150391</td>\n",
              "      <td>2.222812e+09</td>\n",
              "    </tr>\n",
              "    <tr>\n",
              "      <th>2</th>\n",
              "      <td>2018-10-23</td>\n",
              "      <td>26015.490234</td>\n",
              "      <td>26015.490234</td>\n",
              "      <td>25315.759766</td>\n",
              "      <td>25346.550781</td>\n",
              "      <td>25346.550781</td>\n",
              "      <td>1.772912e+09</td>\n",
              "    </tr>\n",
              "    <tr>\n",
              "      <th>3</th>\n",
              "      <td>2018-10-24</td>\n",
              "      <td>25401.169922</td>\n",
              "      <td>25653.359375</td>\n",
              "      <td>25194.289063</td>\n",
              "      <td>25249.779297</td>\n",
              "      <td>25249.779297</td>\n",
              "      <td>1.962754e+09</td>\n",
              "    </tr>\n",
              "    <tr>\n",
              "      <th>4</th>\n",
              "      <td>2018-10-25</td>\n",
              "      <td>24766.720703</td>\n",
              "      <td>24994.460938</td>\n",
              "      <td>24653.789063</td>\n",
              "      <td>24994.460938</td>\n",
              "      <td>24994.460938</td>\n",
              "      <td>2.288634e+09</td>\n",
              "    </tr>\n",
              "  </tbody>\n",
              "</table>\n",
              "</div>"
            ],
            "text/plain": [
              "         Date          Open  ...     Adj Close        Volume\n",
              "0  2018-10-19  25172.029297  ...  25561.400391  2.037872e+09\n",
              "1  2018-10-22  25668.330078  ...  26153.150391  2.222812e+09\n",
              "2  2018-10-23  26015.490234  ...  25346.550781  1.772912e+09\n",
              "3  2018-10-24  25401.169922  ...  25249.779297  1.962754e+09\n",
              "4  2018-10-25  24766.720703  ...  24994.460938  2.288634e+09\n",
              "\n",
              "[5 rows x 7 columns]"
            ]
          },
          "metadata": {
            "tags": []
          },
          "execution_count": 102
        }
      ]
    },
    {
      "cell_type": "code",
      "metadata": {
        "id": "pSQgAIlf82Sr",
        "outputId": "37cc8b66-7596-4a24-92ee-e1a7d0a40538",
        "colab": {
          "base_uri": "https://localhost:8080/",
          "height": 106
        }
      },
      "source": [
        "HangSeng_df = HangSeng_df.round(2)\n",
        "HangSeng_df.head(2)"
      ],
      "execution_count": 103,
      "outputs": [
        {
          "output_type": "execute_result",
          "data": {
            "text/html": [
              "<div>\n",
              "<style scoped>\n",
              "    .dataframe tbody tr th:only-of-type {\n",
              "        vertical-align: middle;\n",
              "    }\n",
              "\n",
              "    .dataframe tbody tr th {\n",
              "        vertical-align: top;\n",
              "    }\n",
              "\n",
              "    .dataframe thead th {\n",
              "        text-align: right;\n",
              "    }\n",
              "</style>\n",
              "<table border=\"1\" class=\"dataframe\">\n",
              "  <thead>\n",
              "    <tr style=\"text-align: right;\">\n",
              "      <th></th>\n",
              "      <th>Date</th>\n",
              "      <th>Open</th>\n",
              "      <th>High</th>\n",
              "      <th>Low</th>\n",
              "      <th>Close</th>\n",
              "      <th>Adj Close</th>\n",
              "      <th>Volume</th>\n",
              "    </tr>\n",
              "  </thead>\n",
              "  <tbody>\n",
              "    <tr>\n",
              "      <th>0</th>\n",
              "      <td>2018-10-19</td>\n",
              "      <td>25172.03</td>\n",
              "      <td>25743.45</td>\n",
              "      <td>25090.30</td>\n",
              "      <td>25561.40</td>\n",
              "      <td>25561.40</td>\n",
              "      <td>2.037872e+09</td>\n",
              "    </tr>\n",
              "    <tr>\n",
              "      <th>1</th>\n",
              "      <td>2018-10-22</td>\n",
              "      <td>25668.33</td>\n",
              "      <td>26234.86</td>\n",
              "      <td>25668.33</td>\n",
              "      <td>26153.15</td>\n",
              "      <td>26153.15</td>\n",
              "      <td>2.222812e+09</td>\n",
              "    </tr>\n",
              "  </tbody>\n",
              "</table>\n",
              "</div>"
            ],
            "text/plain": [
              "         Date      Open      High       Low     Close  Adj Close        Volume\n",
              "0  2018-10-19  25172.03  25743.45  25090.30  25561.40   25561.40  2.037872e+09\n",
              "1  2018-10-22  25668.33  26234.86  25668.33  26153.15   26153.15  2.222812e+09"
            ]
          },
          "metadata": {
            "tags": []
          },
          "execution_count": 103
        }
      ]
    },
    {
      "cell_type": "code",
      "metadata": {
        "id": "lBDso0uS82VO",
        "outputId": "40188e6b-e11e-4471-a6e7-58a448a2263d",
        "colab": {
          "base_uri": "https://localhost:8080/"
        }
      },
      "source": [
        "HangSeng_df.shape"
      ],
      "execution_count": 104,
      "outputs": [
        {
          "output_type": "execute_result",
          "data": {
            "text/plain": [
              "(493, 7)"
            ]
          },
          "metadata": {
            "tags": []
          },
          "execution_count": 104
        }
      ]
    },
    {
      "cell_type": "code",
      "metadata": {
        "id": "rGgXnJi8vhIo",
        "outputId": "1fbe79cb-a165-4d46-828f-5a6a8fc05b86",
        "colab": {
          "base_uri": "https://localhost:8080/"
        }
      },
      "source": [
        "HangSeng_df.isnull().sum()"
      ],
      "execution_count": 105,
      "outputs": [
        {
          "output_type": "execute_result",
          "data": {
            "text/plain": [
              "Date         0\n",
              "Open         1\n",
              "High         1\n",
              "Low          1\n",
              "Close        1\n",
              "Adj Close    1\n",
              "Volume       1\n",
              "dtype: int64"
            ]
          },
          "metadata": {
            "tags": []
          },
          "execution_count": 105
        }
      ]
    },
    {
      "cell_type": "code",
      "metadata": {
        "id": "F3NKyh7W9LkM"
      },
      "source": [
        "HangSeng_df.dropna(inplace = True, axis = 0)"
      ],
      "execution_count": 106,
      "outputs": []
    },
    {
      "cell_type": "code",
      "metadata": {
        "id": "MCqDunIQ9LnD",
        "outputId": "fae1f312-6fc6-458b-d395-806907261fca",
        "colab": {
          "base_uri": "https://localhost:8080/"
        }
      },
      "source": [
        "HangSeng_df.isnull().sum()"
      ],
      "execution_count": 107,
      "outputs": [
        {
          "output_type": "execute_result",
          "data": {
            "text/plain": [
              "Date         0\n",
              "Open         0\n",
              "High         0\n",
              "Low          0\n",
              "Close        0\n",
              "Adj Close    0\n",
              "Volume       0\n",
              "dtype: int64"
            ]
          },
          "metadata": {
            "tags": []
          },
          "execution_count": 107
        }
      ]
    },
    {
      "cell_type": "code",
      "metadata": {
        "id": "YjNDq8v59LsR",
        "outputId": "0e0089eb-b8f8-4299-abec-dbf178f9bc19",
        "colab": {
          "base_uri": "https://localhost:8080/"
        }
      },
      "source": [
        "HangSeng_df.dtypes"
      ],
      "execution_count": 108,
      "outputs": [
        {
          "output_type": "execute_result",
          "data": {
            "text/plain": [
              "Date          object\n",
              "Open         float64\n",
              "High         float64\n",
              "Low          float64\n",
              "Close        float64\n",
              "Adj Close    float64\n",
              "Volume       float64\n",
              "dtype: object"
            ]
          },
          "metadata": {
            "tags": []
          },
          "execution_count": 108
        }
      ]
    },
    {
      "cell_type": "code",
      "metadata": {
        "id": "DqCwtGpX9Lu-",
        "outputId": "2ee15777-4b23-40d2-e6d5-4b916170fd5a",
        "colab": {
          "base_uri": "https://localhost:8080/",
          "height": 106
        }
      },
      "source": [
        "HangSeng_df['Date'] = pd.to_datetime(HangSeng_df['Date'])\n",
        "HangSeng_df.head(2)"
      ],
      "execution_count": 109,
      "outputs": [
        {
          "output_type": "execute_result",
          "data": {
            "text/html": [
              "<div>\n",
              "<style scoped>\n",
              "    .dataframe tbody tr th:only-of-type {\n",
              "        vertical-align: middle;\n",
              "    }\n",
              "\n",
              "    .dataframe tbody tr th {\n",
              "        vertical-align: top;\n",
              "    }\n",
              "\n",
              "    .dataframe thead th {\n",
              "        text-align: right;\n",
              "    }\n",
              "</style>\n",
              "<table border=\"1\" class=\"dataframe\">\n",
              "  <thead>\n",
              "    <tr style=\"text-align: right;\">\n",
              "      <th></th>\n",
              "      <th>Date</th>\n",
              "      <th>Open</th>\n",
              "      <th>High</th>\n",
              "      <th>Low</th>\n",
              "      <th>Close</th>\n",
              "      <th>Adj Close</th>\n",
              "      <th>Volume</th>\n",
              "    </tr>\n",
              "  </thead>\n",
              "  <tbody>\n",
              "    <tr>\n",
              "      <th>0</th>\n",
              "      <td>2018-10-19</td>\n",
              "      <td>25172.03</td>\n",
              "      <td>25743.45</td>\n",
              "      <td>25090.30</td>\n",
              "      <td>25561.40</td>\n",
              "      <td>25561.40</td>\n",
              "      <td>2.037872e+09</td>\n",
              "    </tr>\n",
              "    <tr>\n",
              "      <th>1</th>\n",
              "      <td>2018-10-22</td>\n",
              "      <td>25668.33</td>\n",
              "      <td>26234.86</td>\n",
              "      <td>25668.33</td>\n",
              "      <td>26153.15</td>\n",
              "      <td>26153.15</td>\n",
              "      <td>2.222812e+09</td>\n",
              "    </tr>\n",
              "  </tbody>\n",
              "</table>\n",
              "</div>"
            ],
            "text/plain": [
              "        Date      Open      High       Low     Close  Adj Close        Volume\n",
              "0 2018-10-19  25172.03  25743.45  25090.30  25561.40   25561.40  2.037872e+09\n",
              "1 2018-10-22  25668.33  26234.86  25668.33  26153.15   26153.15  2.222812e+09"
            ]
          },
          "metadata": {
            "tags": []
          },
          "execution_count": 109
        }
      ]
    },
    {
      "cell_type": "code",
      "metadata": {
        "id": "bEFsiqAy9LxW",
        "outputId": "3e739c19-71ae-4ed9-8766-2301d6dff282",
        "colab": {
          "base_uri": "https://localhost:8080/"
        }
      },
      "source": [
        "type(HangSeng_df.loc[0,'Date'])"
      ],
      "execution_count": 110,
      "outputs": [
        {
          "output_type": "execute_result",
          "data": {
            "text/plain": [
              "pandas._libs.tslibs.timestamps.Timestamp"
            ]
          },
          "metadata": {
            "tags": []
          },
          "execution_count": 110
        }
      ]
    },
    {
      "cell_type": "code",
      "metadata": {
        "id": "BQKGWbIu9MUi",
        "outputId": "d9e39916-8436-4548-bd68-3a98e83e8abc",
        "colab": {
          "base_uri": "https://localhost:8080/"
        }
      },
      "source": [
        "HangSeng_df['Date'].max() - HangSeng_df['Date'].min()"
      ],
      "execution_count": 111,
      "outputs": [
        {
          "output_type": "execute_result",
          "data": {
            "text/plain": [
              "Timedelta('728 days 00:00:00')"
            ]
          },
          "metadata": {
            "tags": []
          },
          "execution_count": 111
        }
      ]
    },
    {
      "cell_type": "code",
      "metadata": {
        "id": "hg3bnc7G9vO9",
        "outputId": "a8f2b6ed-5926-4a87-ea26-0a9c77786d13",
        "colab": {
          "base_uri": "https://localhost:8080/",
          "height": 284
        }
      },
      "source": [
        "HangSeng_df.iloc[-90:].describe().astype(int)"
      ],
      "execution_count": 112,
      "outputs": [
        {
          "output_type": "execute_result",
          "data": {
            "text/html": [
              "<div>\n",
              "<style scoped>\n",
              "    .dataframe tbody tr th:only-of-type {\n",
              "        vertical-align: middle;\n",
              "    }\n",
              "\n",
              "    .dataframe tbody tr th {\n",
              "        vertical-align: top;\n",
              "    }\n",
              "\n",
              "    .dataframe thead th {\n",
              "        text-align: right;\n",
              "    }\n",
              "</style>\n",
              "<table border=\"1\" class=\"dataframe\">\n",
              "  <thead>\n",
              "    <tr style=\"text-align: right;\">\n",
              "      <th></th>\n",
              "      <th>Open</th>\n",
              "      <th>High</th>\n",
              "      <th>Low</th>\n",
              "      <th>Close</th>\n",
              "      <th>Adj Close</th>\n",
              "      <th>Volume</th>\n",
              "    </tr>\n",
              "  </thead>\n",
              "  <tbody>\n",
              "    <tr>\n",
              "      <th>count</th>\n",
              "      <td>90</td>\n",
              "      <td>90</td>\n",
              "      <td>90</td>\n",
              "      <td>90</td>\n",
              "      <td>90</td>\n",
              "      <td>90</td>\n",
              "    </tr>\n",
              "    <tr>\n",
              "      <th>mean</th>\n",
              "      <td>24819</td>\n",
              "      <td>24973</td>\n",
              "      <td>24586</td>\n",
              "      <td>24762</td>\n",
              "      <td>24762</td>\n",
              "      <td>1847891047</td>\n",
              "    </tr>\n",
              "    <tr>\n",
              "      <th>std</th>\n",
              "      <td>652</td>\n",
              "      <td>662</td>\n",
              "      <td>621</td>\n",
              "      <td>642</td>\n",
              "      <td>642</td>\n",
              "      <td>635710242</td>\n",
              "    </tr>\n",
              "    <tr>\n",
              "      <th>min</th>\n",
              "      <td>23284</td>\n",
              "      <td>23495</td>\n",
              "      <td>23124</td>\n",
              "      <td>23235</td>\n",
              "      <td>23235</td>\n",
              "      <td>0</td>\n",
              "    </tr>\n",
              "    <tr>\n",
              "      <th>25%</th>\n",
              "      <td>24382</td>\n",
              "      <td>24572</td>\n",
              "      <td>24200</td>\n",
              "      <td>24434</td>\n",
              "      <td>24434</td>\n",
              "      <td>1459246075</td>\n",
              "    </tr>\n",
              "    <tr>\n",
              "      <th>50%</th>\n",
              "      <td>24816</td>\n",
              "      <td>24957</td>\n",
              "      <td>24581</td>\n",
              "      <td>24729</td>\n",
              "      <td>24729</td>\n",
              "      <td>1750760150</td>\n",
              "    </tr>\n",
              "    <tr>\n",
              "      <th>75%</th>\n",
              "      <td>25232</td>\n",
              "      <td>25359</td>\n",
              "      <td>25034</td>\n",
              "      <td>25178</td>\n",
              "      <td>25178</td>\n",
              "      <td>2097051475</td>\n",
              "    </tr>\n",
              "    <tr>\n",
              "      <th>max</th>\n",
              "      <td>26571</td>\n",
              "      <td>26782</td>\n",
              "      <td>26016</td>\n",
              "      <td>26339</td>\n",
              "      <td>26339</td>\n",
              "      <td>4883381900</td>\n",
              "    </tr>\n",
              "  </tbody>\n",
              "</table>\n",
              "</div>"
            ],
            "text/plain": [
              "        Open   High    Low  Close  Adj Close      Volume\n",
              "count     90     90     90     90         90          90\n",
              "mean   24819  24973  24586  24762      24762  1847891047\n",
              "std      652    662    621    642        642   635710242\n",
              "min    23284  23495  23124  23235      23235           0\n",
              "25%    24382  24572  24200  24434      24434  1459246075\n",
              "50%    24816  24957  24581  24729      24729  1750760150\n",
              "75%    25232  25359  25034  25178      25178  2097051475\n",
              "max    26571  26782  26016  26339      26339  4883381900"
            ]
          },
          "metadata": {
            "tags": []
          },
          "execution_count": 112
        }
      ]
    },
    {
      "cell_type": "code",
      "metadata": {
        "id": "lB-Kk3qv9vRq",
        "outputId": "11ed3141-10e6-4672-e6d4-e4fe53ec5cc2",
        "colab": {
          "base_uri": "https://localhost:8080/",
          "height": 195
        }
      },
      "source": [
        "HangSeng_df['Day_Perc_Change'] = HangSeng_df['Adj Close'].pct_change()*100\n",
        "HangSeng_df.head()"
      ],
      "execution_count": 113,
      "outputs": [
        {
          "output_type": "execute_result",
          "data": {
            "text/html": [
              "<div>\n",
              "<style scoped>\n",
              "    .dataframe tbody tr th:only-of-type {\n",
              "        vertical-align: middle;\n",
              "    }\n",
              "\n",
              "    .dataframe tbody tr th {\n",
              "        vertical-align: top;\n",
              "    }\n",
              "\n",
              "    .dataframe thead th {\n",
              "        text-align: right;\n",
              "    }\n",
              "</style>\n",
              "<table border=\"1\" class=\"dataframe\">\n",
              "  <thead>\n",
              "    <tr style=\"text-align: right;\">\n",
              "      <th></th>\n",
              "      <th>Date</th>\n",
              "      <th>Open</th>\n",
              "      <th>High</th>\n",
              "      <th>Low</th>\n",
              "      <th>Close</th>\n",
              "      <th>Adj Close</th>\n",
              "      <th>Volume</th>\n",
              "      <th>Day_Perc_Change</th>\n",
              "    </tr>\n",
              "  </thead>\n",
              "  <tbody>\n",
              "    <tr>\n",
              "      <th>0</th>\n",
              "      <td>2018-10-19</td>\n",
              "      <td>25172.03</td>\n",
              "      <td>25743.45</td>\n",
              "      <td>25090.30</td>\n",
              "      <td>25561.40</td>\n",
              "      <td>25561.40</td>\n",
              "      <td>2.037872e+09</td>\n",
              "      <td>NaN</td>\n",
              "    </tr>\n",
              "    <tr>\n",
              "      <th>1</th>\n",
              "      <td>2018-10-22</td>\n",
              "      <td>25668.33</td>\n",
              "      <td>26234.86</td>\n",
              "      <td>25668.33</td>\n",
              "      <td>26153.15</td>\n",
              "      <td>26153.15</td>\n",
              "      <td>2.222812e+09</td>\n",
              "      <td>2.315014</td>\n",
              "    </tr>\n",
              "    <tr>\n",
              "      <th>2</th>\n",
              "      <td>2018-10-23</td>\n",
              "      <td>26015.49</td>\n",
              "      <td>26015.49</td>\n",
              "      <td>25315.76</td>\n",
              "      <td>25346.55</td>\n",
              "      <td>25346.55</td>\n",
              "      <td>1.772912e+09</td>\n",
              "      <td>-3.084141</td>\n",
              "    </tr>\n",
              "    <tr>\n",
              "      <th>3</th>\n",
              "      <td>2018-10-24</td>\n",
              "      <td>25401.17</td>\n",
              "      <td>25653.36</td>\n",
              "      <td>25194.29</td>\n",
              "      <td>25249.78</td>\n",
              "      <td>25249.78</td>\n",
              "      <td>1.962754e+09</td>\n",
              "      <td>-0.381788</td>\n",
              "    </tr>\n",
              "    <tr>\n",
              "      <th>4</th>\n",
              "      <td>2018-10-25</td>\n",
              "      <td>24766.72</td>\n",
              "      <td>24994.46</td>\n",
              "      <td>24653.79</td>\n",
              "      <td>24994.46</td>\n",
              "      <td>24994.46</td>\n",
              "      <td>2.288634e+09</td>\n",
              "      <td>-1.011177</td>\n",
              "    </tr>\n",
              "  </tbody>\n",
              "</table>\n",
              "</div>"
            ],
            "text/plain": [
              "        Date      Open      High  ...  Adj Close        Volume  Day_Perc_Change\n",
              "0 2018-10-19  25172.03  25743.45  ...   25561.40  2.037872e+09              NaN\n",
              "1 2018-10-22  25668.33  26234.86  ...   26153.15  2.222812e+09         2.315014\n",
              "2 2018-10-23  26015.49  26015.49  ...   25346.55  1.772912e+09        -3.084141\n",
              "3 2018-10-24  25401.17  25653.36  ...   25249.78  1.962754e+09        -0.381788\n",
              "4 2018-10-25  24766.72  24994.46  ...   24994.46  2.288634e+09        -1.011177\n",
              "\n",
              "[5 rows x 8 columns]"
            ]
          },
          "metadata": {
            "tags": []
          },
          "execution_count": 113
        }
      ]
    },
    {
      "cell_type": "code",
      "metadata": {
        "id": "wMmaOJ-D9vVY",
        "outputId": "8e86021a-df4d-44d4-9d1b-be87a0161c5d",
        "colab": {
          "base_uri": "https://localhost:8080/",
          "height": 195
        }
      },
      "source": [
        "HangSeng_df.dropna(inplace = True, axis = 0)\n",
        "HangSeng_df.head()"
      ],
      "execution_count": 114,
      "outputs": [
        {
          "output_type": "execute_result",
          "data": {
            "text/html": [
              "<div>\n",
              "<style scoped>\n",
              "    .dataframe tbody tr th:only-of-type {\n",
              "        vertical-align: middle;\n",
              "    }\n",
              "\n",
              "    .dataframe tbody tr th {\n",
              "        vertical-align: top;\n",
              "    }\n",
              "\n",
              "    .dataframe thead th {\n",
              "        text-align: right;\n",
              "    }\n",
              "</style>\n",
              "<table border=\"1\" class=\"dataframe\">\n",
              "  <thead>\n",
              "    <tr style=\"text-align: right;\">\n",
              "      <th></th>\n",
              "      <th>Date</th>\n",
              "      <th>Open</th>\n",
              "      <th>High</th>\n",
              "      <th>Low</th>\n",
              "      <th>Close</th>\n",
              "      <th>Adj Close</th>\n",
              "      <th>Volume</th>\n",
              "      <th>Day_Perc_Change</th>\n",
              "    </tr>\n",
              "  </thead>\n",
              "  <tbody>\n",
              "    <tr>\n",
              "      <th>1</th>\n",
              "      <td>2018-10-22</td>\n",
              "      <td>25668.33</td>\n",
              "      <td>26234.86</td>\n",
              "      <td>25668.33</td>\n",
              "      <td>26153.15</td>\n",
              "      <td>26153.15</td>\n",
              "      <td>2.222812e+09</td>\n",
              "      <td>2.315014</td>\n",
              "    </tr>\n",
              "    <tr>\n",
              "      <th>2</th>\n",
              "      <td>2018-10-23</td>\n",
              "      <td>26015.49</td>\n",
              "      <td>26015.49</td>\n",
              "      <td>25315.76</td>\n",
              "      <td>25346.55</td>\n",
              "      <td>25346.55</td>\n",
              "      <td>1.772912e+09</td>\n",
              "      <td>-3.084141</td>\n",
              "    </tr>\n",
              "    <tr>\n",
              "      <th>3</th>\n",
              "      <td>2018-10-24</td>\n",
              "      <td>25401.17</td>\n",
              "      <td>25653.36</td>\n",
              "      <td>25194.29</td>\n",
              "      <td>25249.78</td>\n",
              "      <td>25249.78</td>\n",
              "      <td>1.962754e+09</td>\n",
              "      <td>-0.381788</td>\n",
              "    </tr>\n",
              "    <tr>\n",
              "      <th>4</th>\n",
              "      <td>2018-10-25</td>\n",
              "      <td>24766.72</td>\n",
              "      <td>24994.46</td>\n",
              "      <td>24653.79</td>\n",
              "      <td>24994.46</td>\n",
              "      <td>24994.46</td>\n",
              "      <td>2.288634e+09</td>\n",
              "      <td>-1.011177</td>\n",
              "    </tr>\n",
              "    <tr>\n",
              "      <th>5</th>\n",
              "      <td>2018-10-26</td>\n",
              "      <td>25031.49</td>\n",
              "      <td>25062.20</td>\n",
              "      <td>24589.04</td>\n",
              "      <td>24717.63</td>\n",
              "      <td>24717.63</td>\n",
              "      <td>1.688396e+09</td>\n",
              "      <td>-1.107565</td>\n",
              "    </tr>\n",
              "  </tbody>\n",
              "</table>\n",
              "</div>"
            ],
            "text/plain": [
              "        Date      Open      High  ...  Adj Close        Volume  Day_Perc_Change\n",
              "1 2018-10-22  25668.33  26234.86  ...   26153.15  2.222812e+09         2.315014\n",
              "2 2018-10-23  26015.49  26015.49  ...   25346.55  1.772912e+09        -3.084141\n",
              "3 2018-10-24  25401.17  25653.36  ...   25249.78  1.962754e+09        -0.381788\n",
              "4 2018-10-25  24766.72  24994.46  ...   24994.46  2.288634e+09        -1.011177\n",
              "5 2018-10-26  25031.49  25062.20  ...   24717.63  1.688396e+09        -1.107565\n",
              "\n",
              "[5 rows x 8 columns]"
            ]
          },
          "metadata": {
            "tags": []
          },
          "execution_count": 114
        }
      ]
    },
    {
      "cell_type": "code",
      "metadata": {
        "id": "CTFLu7k29vXm",
        "outputId": "0700a8b1-7613-475c-87e2-6b2abffa97cb",
        "colab": {
          "base_uri": "https://localhost:8080/",
          "height": 195
        }
      },
      "source": [
        "HangSeng_df['Trend']= np.zeros(HangSeng_df[\"Day_Perc_Change\"].count())\n",
        "HangSeng_df['Trend']= HangSeng_df['Day_Perc_Change'].apply(lambda x:trend(x))\n",
        "HangSeng_df.head()"
      ],
      "execution_count": 115,
      "outputs": [
        {
          "output_type": "execute_result",
          "data": {
            "text/html": [
              "<div>\n",
              "<style scoped>\n",
              "    .dataframe tbody tr th:only-of-type {\n",
              "        vertical-align: middle;\n",
              "    }\n",
              "\n",
              "    .dataframe tbody tr th {\n",
              "        vertical-align: top;\n",
              "    }\n",
              "\n",
              "    .dataframe thead th {\n",
              "        text-align: right;\n",
              "    }\n",
              "</style>\n",
              "<table border=\"1\" class=\"dataframe\">\n",
              "  <thead>\n",
              "    <tr style=\"text-align: right;\">\n",
              "      <th></th>\n",
              "      <th>Date</th>\n",
              "      <th>Open</th>\n",
              "      <th>High</th>\n",
              "      <th>Low</th>\n",
              "      <th>Close</th>\n",
              "      <th>Adj Close</th>\n",
              "      <th>Volume</th>\n",
              "      <th>Day_Perc_Change</th>\n",
              "      <th>Trend</th>\n",
              "    </tr>\n",
              "  </thead>\n",
              "  <tbody>\n",
              "    <tr>\n",
              "      <th>1</th>\n",
              "      <td>2018-10-22</td>\n",
              "      <td>25668.33</td>\n",
              "      <td>26234.86</td>\n",
              "      <td>25668.33</td>\n",
              "      <td>26153.15</td>\n",
              "      <td>26153.15</td>\n",
              "      <td>2.222812e+09</td>\n",
              "      <td>2.315014</td>\n",
              "      <td>Positive</td>\n",
              "    </tr>\n",
              "    <tr>\n",
              "      <th>2</th>\n",
              "      <td>2018-10-23</td>\n",
              "      <td>26015.49</td>\n",
              "      <td>26015.49</td>\n",
              "      <td>25315.76</td>\n",
              "      <td>25346.55</td>\n",
              "      <td>25346.55</td>\n",
              "      <td>1.772912e+09</td>\n",
              "      <td>-3.084141</td>\n",
              "      <td>Among Top Losers</td>\n",
              "    </tr>\n",
              "    <tr>\n",
              "      <th>3</th>\n",
              "      <td>2018-10-24</td>\n",
              "      <td>25401.17</td>\n",
              "      <td>25653.36</td>\n",
              "      <td>25194.29</td>\n",
              "      <td>25249.78</td>\n",
              "      <td>25249.78</td>\n",
              "      <td>1.962754e+09</td>\n",
              "      <td>-0.381788</td>\n",
              "      <td>Slight or No Change</td>\n",
              "    </tr>\n",
              "    <tr>\n",
              "      <th>4</th>\n",
              "      <td>2018-10-25</td>\n",
              "      <td>24766.72</td>\n",
              "      <td>24994.46</td>\n",
              "      <td>24653.79</td>\n",
              "      <td>24994.46</td>\n",
              "      <td>24994.46</td>\n",
              "      <td>2.288634e+09</td>\n",
              "      <td>-1.011177</td>\n",
              "      <td>Negative</td>\n",
              "    </tr>\n",
              "    <tr>\n",
              "      <th>5</th>\n",
              "      <td>2018-10-26</td>\n",
              "      <td>25031.49</td>\n",
              "      <td>25062.20</td>\n",
              "      <td>24589.04</td>\n",
              "      <td>24717.63</td>\n",
              "      <td>24717.63</td>\n",
              "      <td>1.688396e+09</td>\n",
              "      <td>-1.107565</td>\n",
              "      <td>Negative</td>\n",
              "    </tr>\n",
              "  </tbody>\n",
              "</table>\n",
              "</div>"
            ],
            "text/plain": [
              "        Date      Open  ...  Day_Perc_Change                Trend\n",
              "1 2018-10-22  25668.33  ...         2.315014             Positive\n",
              "2 2018-10-23  26015.49  ...        -3.084141     Among Top Losers\n",
              "3 2018-10-24  25401.17  ...        -0.381788  Slight or No Change\n",
              "4 2018-10-25  24766.72  ...        -1.011177             Negative\n",
              "5 2018-10-26  25031.49  ...        -1.107565             Negative\n",
              "\n",
              "[5 rows x 9 columns]"
            ]
          },
          "metadata": {
            "tags": []
          },
          "execution_count": 115
        }
      ]
    },
    {
      "cell_type": "code",
      "metadata": {
        "id": "tK5Ya-jH-JkN",
        "outputId": "02aa4a66-2b05-474e-b014-e641f0782799",
        "colab": {
          "base_uri": "https://localhost:8080/"
        }
      },
      "source": [
        "start_date = \"2019-1-1\"\n",
        "end_date = \"2019-12-31\"\n",
        "\n",
        "after_start_date = HangSeng_df[\"Date\"] >= start_date\n",
        "before_end_date = HangSeng_df[\"Date\"] <= end_date\n",
        "between_two_dates = after_start_date & before_end_date\n",
        "filtered_dates = HangSeng_df.loc[between_two_dates]\n",
        "\n",
        "print(filtered_dates)"
      ],
      "execution_count": 116,
      "outputs": [
        {
          "output_type": "stream",
          "text": [
            "          Date      Open  ...  Day_Perc_Change                Trend\n",
            "50  2019-01-02  25824.44  ...        -2.767772             Negative\n",
            "51  2019-01-03  25077.68  ...        -0.262591  Slight or No Change\n",
            "52  2019-01-04  24946.12  ...         2.240911             Positive\n",
            "53  2019-01-07  26015.84  ...         0.818192      Slight Positive\n",
            "54  2019-01-08  25852.50  ...         0.153857  Slight or No Change\n",
            "..         ...       ...  ...              ...                  ...\n",
            "291 2019-12-23  28024.62  ...         0.125792  Slight or No Change\n",
            "292 2019-12-24  27901.51  ...        -0.151220  Slight or No Change\n",
            "293 2019-12-27  28033.66  ...         1.296322             Positive\n",
            "294 2019-12-30  28250.48  ...         0.332927  Slight or No Change\n",
            "295 2019-12-31  28241.43  ...        -0.457778  Slight or No Change\n",
            "\n",
            "[246 rows x 9 columns]\n"
          ],
          "name": "stdout"
        }
      ]
    },
    {
      "cell_type": "code",
      "metadata": {
        "id": "Tmh-ih1c-Jnc",
        "outputId": "3d31d268-9df9-4fde-ac5d-e5b2d528b449",
        "colab": {
          "base_uri": "https://localhost:8080/",
          "height": 413
        }
      },
      "source": [
        "HangSeng_pie_data = HangSeng_df.groupby('Trend')\n",
        "pie_label = sorted([i for i in HangSeng_df.loc[:, 'Trend'].unique()])\n",
        "plt.pie(HangSeng_pie_data['Trend'].count(), labels = pie_label, \n",
        "        autopct = '%1.1f%%', radius = 2)\n",
        "\n",
        "plt.show()"
      ],
      "execution_count": 117,
      "outputs": [
        {
          "output_type": "display_data",
          "data": {
            "image/png": "[encoded data removed]",
            "text/plain": [
              "<Figure size 432x288 with 1 Axes>"
            ]
          },
          "metadata": {
            "tags": []
          }
        }
      ]
    },
    {
      "cell_type": "markdown",
      "metadata": {
        "id": "_xe8ok2PTqVS"
      },
      "source": [
        "#### Penjelasan \n",
        "1. Pada Pie Chart Nasdaq, Nikkei, dan HangSeng, terlihat dari pie chart ketiganya presentase paling besar ada pada \"Slight or No Change\" yang artinya perubahan harga saham dari tahun ke tahun tidak berubah secara signifikan dan jika perubahannya kecil, potensi keuntungannya pun kecil.\n",
        "\n",
        "2. Dari ketiga pie hart diatas juga dapat dilihat daerah dari \"Among Top Losers\" dan \"Among Top Gainers\" memiliki presentasae yang sangat kecil, karena presentasae yang kecil pada \"Amont Top Losers\" maupunu \"Among Top Gainers\" maka peluang untuk meningkatkan atau menurunkan perubahan harga saham juga sangat kecil. \n",
        "\n",
        "3. Pada pie chart Nasdaq terdapat Bull run (0,6%) dan Bear drop(0,5%) menunjukan bahwa kondisi saham Nasdaq sedang mengalami penguatan sebesar 0,6% dan pelemahan sebesar 0,5%\n",
        "\n",
        "4. Pada Pie Chart Nikkei terdapat Bull run (0,4%) yang menunjukan bahwa kondisi saham Nikkei sedang mengalami penguatan sebesar 0,4%\n",
        "\n",
        "5. Pada pie chart HangSeng tidak terdapat Bull run maupun Bear drop yang menunjukan bahwwa tidak ada perubahan harga saham yang signifikan pada saham HangSeng.  "
      ]
    },
    {
      "cell_type": "markdown",
      "metadata": {
        "id": "3A9ovdo2TqVS"
      },
      "source": [
        "### Soal 4 (30 poin)\n",
        "Lakukanlah analisis volatilitas dari ketiga harga saham tersebut selama tahun 2019, lalu tampilkan dan jelaskan hasil visualisasinya."
      ]
    },
    {
      "cell_type": "markdown",
      "metadata": {
        "id": "bdrZ8tOzTqVT"
      },
      "source": [
        "#### Code"
      ]
    },
    {
      "cell_type": "code",
      "metadata": {
        "id": "e5h1Dx2aTqVT"
      },
      "source": [
        "combined_df = pd.concat([Nasdaq_df[\"Adj Close\"], Nikkei_df[\"Adj Close\"], HangSeng_df[\"Adj Close\"]], axis=1)\n",
        "combined_df.columns = [\"Nasdaq\", \"Nikkei\", \"HangSeng\"]"
      ],
      "execution_count": 118,
      "outputs": []
    },
    {
      "cell_type": "code",
      "metadata": {
        "id": "1C1hej8z1k6a",
        "outputId": "691eee90-ebac-408a-f0cb-8d38b193c136",
        "colab": {
          "base_uri": "https://localhost:8080/",
          "height": 195
        }
      },
      "source": [
        "combined_df.dropna(inplace=True, axis = 0)\n",
        "combined_df.head()"
      ],
      "execution_count": 119,
      "outputs": [
        {
          "output_type": "execute_result",
          "data": {
            "text/html": [
              "<div>\n",
              "<style scoped>\n",
              "    .dataframe tbody tr th:only-of-type {\n",
              "        vertical-align: middle;\n",
              "    }\n",
              "\n",
              "    .dataframe tbody tr th {\n",
              "        vertical-align: top;\n",
              "    }\n",
              "\n",
              "    .dataframe thead th {\n",
              "        text-align: right;\n",
              "    }\n",
              "</style>\n",
              "<table border=\"1\" class=\"dataframe\">\n",
              "  <thead>\n",
              "    <tr style=\"text-align: right;\">\n",
              "      <th></th>\n",
              "      <th>Nasdaq</th>\n",
              "      <th>Nikkei</th>\n",
              "      <th>HangSeng</th>\n",
              "    </tr>\n",
              "  </thead>\n",
              "  <tbody>\n",
              "    <tr>\n",
              "      <th>1</th>\n",
              "      <td>7468.63</td>\n",
              "      <td>22614.82</td>\n",
              "      <td>26153.15</td>\n",
              "    </tr>\n",
              "    <tr>\n",
              "      <th>2</th>\n",
              "      <td>7437.54</td>\n",
              "      <td>22010.78</td>\n",
              "      <td>25346.55</td>\n",
              "    </tr>\n",
              "    <tr>\n",
              "      <th>3</th>\n",
              "      <td>7108.40</td>\n",
              "      <td>22091.18</td>\n",
              "      <td>25249.78</td>\n",
              "    </tr>\n",
              "    <tr>\n",
              "      <th>4</th>\n",
              "      <td>7318.34</td>\n",
              "      <td>21268.73</td>\n",
              "      <td>24994.46</td>\n",
              "    </tr>\n",
              "    <tr>\n",
              "      <th>5</th>\n",
              "      <td>7167.21</td>\n",
              "      <td>21184.60</td>\n",
              "      <td>24717.63</td>\n",
              "    </tr>\n",
              "  </tbody>\n",
              "</table>\n",
              "</div>"
            ],
            "text/plain": [
              "    Nasdaq    Nikkei  HangSeng\n",
              "1  7468.63  22614.82  26153.15\n",
              "2  7437.54  22010.78  25346.55\n",
              "3  7108.40  22091.18  25249.78\n",
              "4  7318.34  21268.73  24994.46\n",
              "5  7167.21  21184.60  24717.63"
            ]
          },
          "metadata": {
            "tags": []
          },
          "execution_count": 119
        }
      ]
    },
    {
      "cell_type": "code",
      "metadata": {
        "id": "_viTc1er2IEr",
        "outputId": "7a465a56-6d00-4177-da07-92db58b23af4",
        "colab": {
          "base_uri": "https://localhost:8080/",
          "height": 195
        }
      },
      "source": [
        "combined_df.dropna(inplace = True, axis = 0)\n",
        "combined_df.head()"
      ],
      "execution_count": 120,
      "outputs": [
        {
          "output_type": "execute_result",
          "data": {
            "text/html": [
              "<div>\n",
              "<style scoped>\n",
              "    .dataframe tbody tr th:only-of-type {\n",
              "        vertical-align: middle;\n",
              "    }\n",
              "\n",
              "    .dataframe tbody tr th {\n",
              "        vertical-align: top;\n",
              "    }\n",
              "\n",
              "    .dataframe thead th {\n",
              "        text-align: right;\n",
              "    }\n",
              "</style>\n",
              "<table border=\"1\" class=\"dataframe\">\n",
              "  <thead>\n",
              "    <tr style=\"text-align: right;\">\n",
              "      <th></th>\n",
              "      <th>Nasdaq</th>\n",
              "      <th>Nikkei</th>\n",
              "      <th>HangSeng</th>\n",
              "    </tr>\n",
              "  </thead>\n",
              "  <tbody>\n",
              "    <tr>\n",
              "      <th>1</th>\n",
              "      <td>7468.63</td>\n",
              "      <td>22614.82</td>\n",
              "      <td>26153.15</td>\n",
              "    </tr>\n",
              "    <tr>\n",
              "      <th>2</th>\n",
              "      <td>7437.54</td>\n",
              "      <td>22010.78</td>\n",
              "      <td>25346.55</td>\n",
              "    </tr>\n",
              "    <tr>\n",
              "      <th>3</th>\n",
              "      <td>7108.40</td>\n",
              "      <td>22091.18</td>\n",
              "      <td>25249.78</td>\n",
              "    </tr>\n",
              "    <tr>\n",
              "      <th>4</th>\n",
              "      <td>7318.34</td>\n",
              "      <td>21268.73</td>\n",
              "      <td>24994.46</td>\n",
              "    </tr>\n",
              "    <tr>\n",
              "      <th>5</th>\n",
              "      <td>7167.21</td>\n",
              "      <td>21184.60</td>\n",
              "      <td>24717.63</td>\n",
              "    </tr>\n",
              "  </tbody>\n",
              "</table>\n",
              "</div>"
            ],
            "text/plain": [
              "    Nasdaq    Nikkei  HangSeng\n",
              "1  7468.63  22614.82  26153.15\n",
              "2  7437.54  22010.78  25346.55\n",
              "3  7108.40  22091.18  25249.78\n",
              "4  7318.34  21268.73  24994.46\n",
              "5  7167.21  21184.60  24717.63"
            ]
          },
          "metadata": {
            "tags": []
          },
          "execution_count": 120
        }
      ]
    },
    {
      "cell_type": "code",
      "metadata": {
        "id": "mNcIv2cb2ijV"
      },
      "source": [
        "pct_chg_df = combined_df.pct_change()*100\n",
        "pct_chg_df.dropna(inplace = True, how = \"any\", axis = 0)"
      ],
      "execution_count": 121,
      "outputs": []
    },
    {
      "cell_type": "code",
      "metadata": {
        "id": "XXh0bxnR5de_",
        "outputId": "3de6b9ac-0960-44bd-e4f5-d378a5054c04",
        "colab": {
          "base_uri": "https://localhost:8080/",
          "height": 445
        }
      },
      "source": [
        "volatility = pct_chg_df[['Nasdaq', 'Nikkei', 'HangSeng']].rolling(7).std()*np.sqrt(7)\n",
        "volatility.plot(figsize = (15, 7))"
      ],
      "execution_count": 122,
      "outputs": [
        {
          "output_type": "execute_result",
          "data": {
            "text/plain": [
              "<matplotlib.axes._subplots.AxesSubplot at 0x7fbc44d9b048>"
            ]
          },
          "metadata": {
            "tags": []
          },
          "execution_count": 122
        },
        {
          "output_type": "display_data",
          "data": {
            "image/png": "[encoded data removed]",
            "text/plain": [
              "<Figure size 1080x504 with 1 Axes>"
            ]
          },
          "metadata": {
            "tags": [],
            "needs_background": "light"
          }
        }
      ]
    },
    {
      "cell_type": "markdown",
      "metadata": {
        "id": "IcBLSMYuTqVW"
      },
      "source": [
        "#### Penjelasan \n",
        "Pada grafik yang ada diatas dapat dilihat bahwa volatilitas saham Nasdaq lebih tinggi dibanging dua saham lainnya, disusul oleh saham Nikkei kemudian saham HangSeng. Tingginya volatilitas pada saham Nasdaq sedikit banyaknya dipengaruhi oleh Bull Run dan Bear Drop yang ada pada saham Nasdaq\n",
        "\n",
        "Volatilitas yang tinggi pada saham Nasdaq memiliki peluang mendapat keuntungan lebih tinggi. Jika suatu saham tidak bergerak nilai sahamnya atau cenderung memiliki nilai presentase \"Slight Or no Change\" yang besar cenderung memiliki volatitiltas yang rendah, jika memiliki volatilitas yang rendah kemungkinan potensi keuntungannya juga rendah. Dengan volatilitas yang tinggi saham mungkin berpotensi memiliki keuntungan yang tinggi juga, tetapi juga memiliki resiko yang sangat tinggi. Begitupun saham dengan volatilitas yang rendah, memiliki resiko yang tidak terlalu tinggi."
      ]
    }
  ]
}